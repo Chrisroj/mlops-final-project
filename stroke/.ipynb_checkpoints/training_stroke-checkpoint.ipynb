{
 "cells": [
  {
   "cell_type": "code",
   "execution_count": 44,
   "id": "641bcc9d-7396-4a8d-ab61-0fcab48e0781",
   "metadata": {},
   "outputs": [
    {
     "data": {
      "text/plain": [
       "<Experiment: artifact_location='./mlruns/1', experiment_id='1', lifecycle_stage='active', name='stroke-prediction', tags={}>"
      ]
     },
     "execution_count": 44,
     "metadata": {},
     "output_type": "execute_result"
    }
   ],
   "source": [
    "import os\n",
    "\n",
    "# Data Manipulation\n",
    "import numpy as np\n",
    "import pandas as pd\n",
    "\n",
    "# Preprocessing\n",
    "from sklearn.model_selection import train_test_split\n",
    "from sklearn.impute import SimpleImputer\n",
    "from sklearn.preprocessing import OrdinalEncoder, StandardScaler\n",
    "from sklearn.compose import ColumnTransformer\n",
    "from imblearn.over_sampling import SMOTE\n",
    "from imblearn.pipeline import Pipeline\n",
    "\n",
    "# Modeling\n",
    "from sklearn.ensemble import RandomForestClassifier\n",
    "from sklearn.metrics import precision_score, recall_score, accuracy_score, f1_score\n",
    "from sklearn.model_selection import StratifiedKFold, cross_val_score\n",
    "\n",
    "# Model Tunnning\n",
    "from hyperopt import fmin, tpe, hp, STATUS_OK, Trials\n",
    "from hyperopt.pyll import scope\n",
    "\n",
    "# MLflow\n",
    "import mlflow\n",
    "\n",
    "mlflow.set_tracking_uri(\"sqlite:///mlflow.db\")\n",
    "mlflow.set_experiment(\"stroke-prediction\")"
   ]
  },
  {
   "cell_type": "markdown",
   "id": "760e5adc-59fa-44af-8876-9185aa2e4c07",
   "metadata": {},
   "source": [
    "# Global Variables"
   ]
  },
  {
   "cell_type": "code",
   "execution_count": 17,
   "id": "c9acfbf0-57da-40b7-ac00-d1a63832102d",
   "metadata": {},
   "outputs": [],
   "source": [
    "RANDOM_STATE = 12354"
   ]
  },
  {
   "cell_type": "markdown",
   "id": "80a15a48-cdd3-446c-9505-585439cb6495",
   "metadata": {},
   "source": [
    "# Read Data"
   ]
  },
  {
   "cell_type": "code",
   "execution_count": 18,
   "id": "c642150a-57ce-4bcd-98ff-00bf62478e29",
   "metadata": {},
   "outputs": [],
   "source": [
    "# Paths\n",
    "root = os.getcwd()\n",
    "data_folder_path = os.path.join(\"data\")\n",
    "data_file_path = os.path.join(data_folder_path, \"healthcare-dataset-stroke-data.csv\")"
   ]
  },
  {
   "cell_type": "code",
   "execution_count": 19,
   "id": "86f82f46-bb37-4f9c-af78-fff36f838c99",
   "metadata": {},
   "outputs": [],
   "source": [
    "# Read Data\n",
    "data = pd.read_csv(data_file_path)"
   ]
  },
  {
   "cell_type": "markdown",
   "id": "3d9c3727-38ea-436c-898e-f0105b144e2a",
   "metadata": {},
   "source": [
    "# Preproccesing"
   ]
  },
  {
   "cell_type": "markdown",
   "id": "ce382520-4beb-478d-8d2c-24ef1de007a8",
   "metadata": {},
   "source": [
    "1. Deal with missing values\n",
    "2. Use SMOTE to deal with imbalanced data"
   ]
  },
  {
   "cell_type": "code",
   "execution_count": 20,
   "id": "19261c0a-c3c4-44c9-a270-f407181b96a6",
   "metadata": {},
   "outputs": [],
   "source": [
    "# Selecting Features and Target\n",
    "y_target = \"stroke\"\n",
    "X_features = [c for c in data.columns if c != y_target]\n",
    "\n",
    "y = data[y_target].copy()\n",
    "X = data[X_features].copy()"
   ]
  },
  {
   "cell_type": "code",
   "execution_count": 21,
   "id": "6920481e-0597-4f00-b799-bb8c1d17e64c",
   "metadata": {},
   "outputs": [],
   "source": [
    "# Train and Test Data \n",
    "X_train, X_test, y_train, y_test = train_test_split(X, y, test_size = 0.25, stratify = y, random_state = RANDOM_STATE)"
   ]
  },
  {
   "cell_type": "code",
   "execution_count": 22,
   "id": "26e30132-30d3-407a-864e-0f77dbdb42d0",
   "metadata": {},
   "outputs": [],
   "source": [
    "# Pipelines For Column Tranformation\n",
    "numeric_columns = ['age', 'avg_glucose_level', 'bmi']\n",
    "categorical_columns = ['Residence_type', 'ever_married', 'gender', 'heart_disease',\n",
    "                       'hypertension', 'smoking_status', 'work_type']\n",
    "\n",
    "numeric_pipeline = Pipeline(steps = \n",
    "                            [(\"imputer\", SimpleImputer(strategy = \"median\"))])\n",
    "\n",
    "categorical_pipeline = Pipeline(steps =\n",
    "                                [(\"encoder\", OrdinalEncoder(handle_unknown = \"use_encoded_value\",\n",
    "                                                            unknown_value = np.nan)),\n",
    "                                (\"imputer\", SimpleImputer(strategy = \"most_frequent\"))])\n",
    "\n",
    "column_trans = ColumnTransformer(\n",
    "    [(\"num_columns\", numeric_pipeline, numeric_columns),\n",
    "     (\"cat_columns\", categorical_pipeline, categorical_columns)])"
   ]
  },
  {
   "cell_type": "markdown",
   "id": "b855ee34-3cff-48d7-94cd-02ac60d45415",
   "metadata": {},
   "source": [
    "# Model Trainning"
   ]
  },
  {
   "cell_type": "markdown",
   "id": "ac977ffb-7520-417d-a175-ed2b9df95d32",
   "metadata": {},
   "source": [
    "**Objectives:**\n",
    "\n",
    "- We want to detect as many strokes as possible(**Recall** must be as large as possible). \n",
    "- But at the same time we don't want too many false positives(**Precission** must be as large as possible).\n",
    "\n",
    "**Metric to be optimized:**\n",
    "\n",
    "- **f1_score**\n",
    "\n",
    "\n",
    "<kbd>\n",
    "  <img src=\"images/confusion_matrix.ppm\">\n",
    "</kbd>"
   ]
  },
  {
   "cell_type": "code",
   "execution_count": 51,
   "id": "2f96cedc-11b4-4431-baaf-9937119d5b42",
   "metadata": {},
   "outputs": [],
   "source": [
    "# Adding SMOTE and Random forest to the pipeline\n",
    "rf_pipeline = Pipeline(steps = [\n",
    "        (\"transformations\", column_trans),\n",
    "        (\"oversampling\", SMOTE(random_state = RANDOM_STATE)),\n",
    "        (\"rf_estimator\", RandomForestClassifier(n_estimators = 1000, n_jobs = -1, class_weight = \"balanced\", random_state = RANDOM_STATE))\n",
    "])"
   ]
  },
  {
   "cell_type": "markdown",
   "id": "de0452ec-7f18-4a2a-bbcf-a62dfd906b95",
   "metadata": {},
   "source": [
    "## Tracking a Single Experiment Run"
   ]
  },
  {
   "cell_type": "code",
   "execution_count": 52,
   "id": "ac3bae9e-b916-414f-8773-1ad89b52157a",
   "metadata": {},
   "outputs": [],
   "source": [
    "with mlflow.start_run():\n",
    "    mlflow.set_tag(\"developer\", \"Chris\")\n",
    "    mlflow.set_tag(\"model_type\", \"RandomForest\")\n",
    "    \n",
    "    rf_params = {\"max_features\": 3,\n",
    "                \"max_depth\": 4,\n",
    "                \"ccp_alpha\": 0.1}\n",
    "    mlflow.log_params(rf_params)\n",
    "    rf_pipeline.named_steps[\"rf_estimator\"].set_params(**rf_params)\n",
    "    \n",
    "    rf_pipeline.fit(X_train, y_train)\n",
    "    \n",
    "    y_pred = rf_pipeline.predict(X_val)\n",
    "    accuracy = accuracy_score(y_val, y_pred)\n",
    "    recall = recall_score(y_val, y_pred)\n",
    "    precission = precision_score(y_val, y_pred)\n",
    "    f1 = f1_score(y_val, y_pred)\n",
    "    mlflow.log_metric(\"accuracy\", accuracy)\n",
    "    mlflow.log_metric(\"precission\", precission)\n",
    "    mlflow.log_metric(\"recall\", recall)\n",
    "    mlflow.log_metric(\"f1\", f1)"
   ]
  },
  {
   "cell_type": "markdown",
   "id": "2a759a24-bed3-4bdb-a472-fa6a8953a9ec",
   "metadata": {},
   "source": [
    "## Tracking a Multiples Experiment Runs"
   ]
  },
  {
   "cell_type": "code",
   "execution_count": 53,
   "id": "bc15e3e4-dc22-4433-81af-6ee82508fca0",
   "metadata": {},
   "outputs": [
    {
     "name": "stdout",
     "output_type": "stream",
     "text": [
      "100%|██████████████████████████████████████████████| 10/10 [00:53<00:00,  5.32s/trial, best loss: -0.23660435660435658]\n"
     ]
    }
   ],
   "source": [
    "def objective(params):\n",
    "    with mlflow.start_run():\n",
    "        mlflow.set_tag(\"developer\", \"Chris\")\n",
    "        mlflow.set_tag(\"model_type\", \"RandomForest\")\n",
    "        mlflow.set_tag(\"tunning_type\", \"tpe\")\n",
    "        \n",
    "        mlflow.log_params(params)\n",
    "        rf_pipeline.named_steps[\"rf_estimator\"].set_params(**params)\n",
    "        \n",
    "        skfold = StratifiedKFold(n_splits = 5, random_state = RANDOM_STATE, shuffle = True)\n",
    "        new_scores = cross_val_score(rf_pipeline, X_train, y_train, cv = skfold, scoring = \"f1\", n_jobs = -1)\n",
    "        f1_mean = new_scores.mean()\n",
    "        \n",
    "        mlflow.log_metric(\"f1_mean\", f1_mean)\n",
    "        \n",
    "    return {'loss': -f1_mean, 'status': STATUS_OK}\n",
    "\n",
    "search_space = {\n",
    "    'max_depth': scope.int(hp.quniform('max_depth', 4, 8, 1)),\n",
    "    \"max_features\": scope.int(hp.quniform('max_features', 1, 6, 1)),\n",
    "    \"ccp_alpha\": hp.uniform('ccp_alpha', 0.000001, 0.01),\n",
    "    'random_state': RANDOM_STATE \n",
    "}\n",
    "\n",
    "best_result = fmin(\n",
    "    fn = objective,\n",
    "    space = search_space,\n",
    "    algo = tpe.suggest,\n",
    "    max_evals = 10,\n",
    "    trials = Trials()\n",
    ")"
   ]
  },
  {
   "cell_type": "code",
   "execution_count": 54,
   "id": "f0e5e445-4f7d-41a4-a415-1451097e6274",
   "metadata": {},
   "outputs": [
    {
     "data": {
      "text/plain": [
       "{'ccp_alpha': 0.0016218846126159721, 'max_depth': 6.0, 'max_features': 4.0}"
      ]
     },
     "execution_count": 54,
     "metadata": {},
     "output_type": "execute_result"
    }
   ],
   "source": [
    "best_result"
   ]
  },
  {
   "cell_type": "markdown",
   "id": "93cd7c9b-dfdd-4bb8-b5ff-ff77f2e7ce53",
   "metadata": {},
   "source": [
    "# Best Model"
   ]
  },
  {
   "cell_type": "code",
   "execution_count": 55,
   "id": "4de261e8-d380-4480-bf09-ec59b68cd264",
   "metadata": {},
   "outputs": [],
   "source": [
    "with mlflow.start_run():\n",
    "    mlflow.set_tag(\"developer\", \"Chris\")\n",
    "    mlflow.set_tag(\"model_type\", \"RandomForest\")\n",
    "    \n",
    "    best_params = {'ccp_alpha': 0.0016218846126159721,\n",
    "                   'max_depth': 6, \n",
    "                   'max_features': 4}\n",
    "    mlflow.log_params(rf_params)\n",
    "    rf_pipeline.named_steps[\"rf_estimator\"].set_params(**best_params)\n",
    "    \n",
    "    rf_pipeline.fit(X_train, y_train)\n",
    "    \n",
    "    y_pred = rf_pipeline.predict(X_test)\n",
    "    accuracy = accuracy_score(y_test, y_pred)\n",
    "    recall = recall_score(y_test, y_pred)\n",
    "    precission = precision_score(y_test, y_pred)\n",
    "    f1 = f1_score(y_test, y_pred)\n",
    "    mlflow.log_metric(\"accuracy\", accuracy)\n",
    "    mlflow.log_metric(\"precission\", precission)\n",
    "    mlflow.log_metric(\"recall\", recall)\n",
    "    mlflow.log_metric(\"f1\", f1)"
   ]
  },
  {
   "cell_type": "code",
   "execution_count": null,
   "id": "fa86ba6b-66d9-44bb-bc53-0bb16c40a25d",
   "metadata": {},
   "outputs": [],
   "source": []
  },
  {
   "cell_type": "code",
   "execution_count": null,
   "id": "4d5ecff7-4ae2-4a39-b488-c5770beb1b76",
   "metadata": {},
   "outputs": [],
   "source": []
  },
  {
   "cell_type": "code",
   "execution_count": null,
   "id": "cc26a629-3b1e-4620-ba8b-3229770df819",
   "metadata": {},
   "outputs": [],
   "source": []
  },
  {
   "cell_type": "code",
   "execution_count": null,
   "id": "1590c8d2-e8b6-4b99-9163-49c4747a2a8f",
   "metadata": {},
   "outputs": [],
   "source": [
    "# Use model registry "
   ]
  },
  {
   "cell_type": "code",
   "execution_count": null,
   "id": "fd1c11f3-61da-4ebe-b054-84383f510d5a",
   "metadata": {},
   "outputs": [],
   "source": []
  },
  {
   "cell_type": "code",
   "execution_count": null,
   "id": "fb0ad0cb-e8da-411a-8b1a-07841d8dc9ed",
   "metadata": {},
   "outputs": [],
   "source": []
  },
  {
   "cell_type": "code",
   "execution_count": null,
   "id": "18830bd2-725a-4f81-acdb-da48296d6523",
   "metadata": {},
   "outputs": [],
   "source": []
  },
  {
   "cell_type": "code",
   "execution_count": null,
   "id": "0702cbf2-a783-4148-b7e6-b18fa17a14b6",
   "metadata": {},
   "outputs": [],
   "source": []
  },
  {
   "cell_type": "code",
   "execution_count": null,
   "id": "8f04c298-987a-43f6-9d9a-f1a1b09aca30",
   "metadata": {},
   "outputs": [],
   "source": []
  },
  {
   "cell_type": "code",
   "execution_count": null,
   "id": "c809c7d2-53b4-4b1e-bf2b-9dba9490d729",
   "metadata": {},
   "outputs": [],
   "source": [
    "# Dani una pregunta -> el AUC ROC score es para comparar modelos "
   ]
  },
  {
   "cell_type": "code",
   "execution_count": null,
   "id": "094d4609-277e-490b-aecd-005ee5885a3a",
   "metadata": {},
   "outputs": [],
   "source": []
  },
  {
   "cell_type": "code",
   "execution_count": null,
   "id": "64779bd2-8f65-420d-83ab-00f81297aba6",
   "metadata": {},
   "outputs": [],
   "source": []
  },
  {
   "cell_type": "code",
   "execution_count": null,
   "id": "8b6b9d29-191e-4219-8f61-5e7bc15393ec",
   "metadata": {},
   "outputs": [],
   "source": [
    "# Falta pipenv\n",
    "# Falta docker"
   ]
  }
 ],
 "metadata": {
  "kernelspec": {
   "display_name": "ds",
   "language": "python",
   "name": "ds"
  },
  "language_info": {
   "codemirror_mode": {
    "name": "ipython",
    "version": 3
   },
   "file_extension": ".py",
   "mimetype": "text/x-python",
   "name": "python",
   "nbconvert_exporter": "python",
   "pygments_lexer": "ipython3",
   "version": "3.10.0"
  }
 },
 "nbformat": 4,
 "nbformat_minor": 5
}
