{
 "cells": [
  {
   "cell_type": "markdown",
   "id": "eecb3f4e-370c-4b35-8b43-f02d190e124d",
   "metadata": {},
   "source": [
    "# Dependencies"
   ]
  },
  {
   "cell_type": "code",
   "execution_count": 1,
   "id": "d3e5992e",
   "metadata": {},
   "outputs": [],
   "source": [
    "import os\n",
    "\n",
    "# Data Manipulation\n",
    "import numpy as np\n",
    "import pandas as pd\n",
    "\n",
    "# Data Visualization\n",
    "import seaborn as sns\n",
    "import matplotlib.pyplot as plt\n",
    "\n",
    "# Pandas Config\n",
    "pd.set_option('display.max_columns', None)\n",
    "pd.set_option('display.max_colwidth', 100)\n",
    "\n",
    "# Seaborn Theme \n",
    "sns.set_theme(style = \"white\")"
   ]
  },
  {
   "cell_type": "markdown",
   "id": "656d4c0a-9fc1-4703-91ae-5d19f549deba",
   "metadata": {
    "jp-MarkdownHeadingCollapsed": true,
    "tags": []
   },
   "source": [
    "# Useful Functions"
   ]
  },
  {
   "cell_type": "code",
   "execution_count": 2,
   "id": "74b649f8-4843-4d52-baa8-47dd04d47390",
   "metadata": {},
   "outputs": [],
   "source": [
    "def get_summary(df: pd.DataFrame, pred: bool = False) -> pd.DataFrame: \n",
    "    obs = df.shape[0]\n",
    "    types = df.dtypes\n",
    "    counts = df.apply(lambda x: x.count())\n",
    "    uniques = df.apply(lambda x: [x.unique()]).squeeze(axis = 0)\n",
    "    nulls = df.apply(lambda x: x.isnull().sum())\n",
    "    distincts = df.apply(lambda x: x.unique().shape[0])\n",
    "    missing_ration = (df.isnull().sum()/ obs) * 100\n",
    "    skewness = df.skew(numeric_only = True)\n",
    "    kurtosis = df.kurtosis(numeric_only = True)\n",
    "    \n",
    "    print('Data shape:', df.shape)\n",
    "    \n",
    "    if ~pred:\n",
    "        cols = ['types', 'counts', 'distincts', 'nulls', 'missing ration', 'uniques', 'skewness', 'kurtosis']\n",
    "        df_summary = pd.concat([types, counts, distincts, nulls, missing_ration, uniques, skewness, kurtosis], axis = 1, sort = True)\n",
    "\n",
    "    else:\n",
    "        corr = df.corr()[pred]\n",
    "        df_summary = pd.concat([types, counts, distincts, nulls, missing_ration, uniques, skewness, kurtosis, corr], axis = 1, sort = True)\n",
    "        corr_col = 'corr '  + pred\n",
    "        cols = ['types', 'counts', 'distincts', 'nulls', 'missing ration', 'uniques', 'skewness', 'kurtosis', corr_col ]\n",
    "    \n",
    "    df_summary.columns = cols\n",
    "    \n",
    "    return df_summary\n",
    "\n",
    "def plot_missing_values(df: pd.DataFrame):\n",
    "    # Missing Values Percentage\n",
    "    missing_values = df.isna().mean().sort_values(ascending = False)\n",
    "    missing_values = missing_values[missing_values > 0]*100\n",
    "\n",
    "    # Plot Missing Values\n",
    "    plt.figure(figsize = (10, 7)) \n",
    "    missing_values.plot.bar(fontsize = 15, color = \"c\", alpha = 0.9)\n",
    "    plt.title(\"Porcentaje de Valores Faltantes\", fontsize = 20)\n",
    "    plt.legend()\n",
    "    plt.show()\n",
    "    \n",
    "def tidy_corr_matrix(df: pd.DataFrame) -> pd.DataFrame:\n",
    "    # Get Numpy Array\n",
    "    array = df.values.copy()\n",
    "    n_variables = array.shape[0]\n",
    "    variables_names = df.columns\n",
    "\n",
    "    # Get Indices of Lower Triangule Matrix\n",
    "    iu2 = np.triu_indices(n_variables)\n",
    "\n",
    "    # Drop Upper Triangule Matrix\n",
    "    array[iu2] = 9999\n",
    "    corr_mat = pd.DataFrame(array, index = variables_names, columns = variables_names)\n",
    "    corr_mat = corr_mat.stack().reset_index()\n",
    "    corr_mat.columns = ['variable_1','variable_2','r']\n",
    "    corr_mat = corr_mat.query(\"r != 9999\")\n",
    "    \n",
    "    # Abs of Correlation\n",
    "    corr_mat = corr_mat.loc[corr_mat['variable_1'] != corr_mat['variable_2'], :]\n",
    "    corr_mat['abs_r'] = np.abs(corr_mat['r'])\n",
    "    corr_mat = corr_mat.sort_values('abs_r', ascending=False)\n",
    "    \n",
    "    return corr_mat.reset_index(drop = True)\n",
    "\n",
    "# Esta función verifica si las listas con los tipos de datos coinciden con los nombres de las columnas\n",
    "# Además verifica si no se repitieron las columnas en dos tipos o más de datos\n",
    "def very_amount_columns(list_columns:list, list_lists_types: list) -> bool:\n",
    "    # Check if the amount of columns is the same\n",
    "    amount_type = 0\n",
    "    list_types = []\n",
    "    for list_type in list_lists_types:\n",
    "        amount_type += len(list_type)\n",
    "        list_types += list_type\n",
    "    same_amount_columns = len(list_columns) == amount_type\n",
    "\n",
    "    # Check if the names of columns is the same\n",
    "    same_name_columns = set(list_types) == set(list_columns)\n",
    "    \n",
    "    if same_amount_columns & same_name_columns:\n",
    "        return True\n",
    "    else:\n",
    "        if not same_amount_columns:\n",
    "            print(\"La cantidad de columnas no coincide\")\n",
    "        if not same_name_columns:\n",
    "            print(\"Los nombres de las columnas no coincide\")\n",
    "        return False"
   ]
  },
  {
   "cell_type": "markdown",
   "id": "ce7ec356-84f8-4aa1-80b3-61753d6fec4c",
   "metadata": {},
   "source": [
    "# Global Variables"
   ]
  },
  {
   "cell_type": "code",
   "execution_count": 3,
   "id": "a5df46ea-9723-47f3-8d55-3dd6dc0fe7d2",
   "metadata": {},
   "outputs": [],
   "source": [
    "RANDOM_STATE = 12354\n",
    "SAMPLE_FRAC = 0.1"
   ]
  },
  {
   "cell_type": "markdown",
   "id": "eeaa8668-0212-4eac-8649-fe1618858c93",
   "metadata": {},
   "source": [
    "# Read Data"
   ]
  },
  {
   "cell_type": "markdown",
   "id": "c4bff39d-0f90-4123-b229-6b60ce5df6de",
   "metadata": {},
   "source": [
    "According to the World Health Organization (WHO) stroke is the 2nd leading cause of death globally, responsible for approximately 11% of total deaths.\n",
    "This dataset is used to predict whether a patient is likely to get stroke based on the input parameters like gender, age, various diseases, and smoking status. Each row in the data provides relavant information about the patient.\n",
    "\n",
    "Attribute Information\n",
    "1. `id`: unique identifier\n",
    "2. `gender`: \"Male\", \"Female\" or \"Other\"\n",
    "3. `age`: age of the patient\n",
    "4. `hypertension`: 0 if the patient doesn't have hypertension, 1 if the patient has hypertension\n",
    "5. `heart_disease`: 0 if the patient doesn't have any heart diseases, 1 if the patient has a heart disease\n",
    "6. `ever_married`: \"No\" or \"Yes\"\n",
    "7. `work_type`: \"children\", \"Govt_jov\", \"Never_worked\", \"Private\" or \"Self-employed\"\n",
    "8. `Residence_type`: \"Rural\" or \"Urban\"\n",
    "9. `avg_glucose_level`: average glucose level in blood\n",
    "10. `bmi`: body mass index\n",
    "11. `smoking_status`: \"formerly smoked\", \"never smoked\", \"smokes\" or \"Unknown\"*\n",
    "12. `stroke`: 1 if the patient had a stroke or 0 if not\n",
    "**Note:** \"Unknown\" in `smoking_status` means that the information is unavailable for this patient\n",
    "\n",
    "Source: [Kaggle Dataset](https://www.kaggle.com/datasets/fedesoriano/stroke-prediction-dataset?datasetId=1120859&sortBy=voteCount)"
   ]
  },
  {
   "cell_type": "markdown",
   "id": "2afdb3f9-7f51-440f-9c9b-754e86e83337",
   "metadata": {},
   "source": [
    "**Stroke:**  Damage to the brain from interruption of its blood supply. A stroke is a medical emergency. Symptoms of stroke include trouble walking, speaking and understanding, as well as paralysis or numbness of the face, arm or leg.\n",
    "\n",
    "Source: [Stroke-Symptoms and causes](https://www.mayoclinic.org/diseases-conditions/stroke/symptoms-causes/syc-20350113)"
   ]
  },
  {
   "cell_type": "code",
   "execution_count": 4,
   "id": "544bac86-d800-4bdf-8407-6d1aa0dc6cc2",
   "metadata": {},
   "outputs": [],
   "source": [
    "# Paths\n",
    "root = os.getcwd()\n",
    "data_folder_path = os.path.join(\"data\")\n",
    "\n",
    "data_file_path = os.path.join(data_folder_path, \"healthcare-dataset-stroke-data.csv\")"
   ]
  },
  {
   "cell_type": "code",
   "execution_count": 5,
   "id": "c7b21cbf",
   "metadata": {},
   "outputs": [],
   "source": [
    "# Read Data\n",
    "data = pd.read_csv(data_file_path)"
   ]
  },
  {
   "cell_type": "code",
   "execution_count": 6,
   "id": "45a010f2-cff0-4fa1-b3df-8c89e0eb3f3f",
   "metadata": {},
   "outputs": [
    {
     "data": {
      "text/html": [
       "<div>\n",
       "<style scoped>\n",
       "    .dataframe tbody tr th:only-of-type {\n",
       "        vertical-align: middle;\n",
       "    }\n",
       "\n",
       "    .dataframe tbody tr th {\n",
       "        vertical-align: top;\n",
       "    }\n",
       "\n",
       "    .dataframe thead th {\n",
       "        text-align: right;\n",
       "    }\n",
       "</style>\n",
       "<table border=\"1\" class=\"dataframe\">\n",
       "  <thead>\n",
       "    <tr style=\"text-align: right;\">\n",
       "      <th></th>\n",
       "      <th>id</th>\n",
       "      <th>gender</th>\n",
       "      <th>age</th>\n",
       "      <th>hypertension</th>\n",
       "      <th>heart_disease</th>\n",
       "      <th>ever_married</th>\n",
       "      <th>work_type</th>\n",
       "      <th>Residence_type</th>\n",
       "      <th>avg_glucose_level</th>\n",
       "      <th>bmi</th>\n",
       "      <th>smoking_status</th>\n",
       "      <th>stroke</th>\n",
       "    </tr>\n",
       "  </thead>\n",
       "  <tbody>\n",
       "    <tr>\n",
       "      <th>0</th>\n",
       "      <td>9046</td>\n",
       "      <td>Male</td>\n",
       "      <td>67.0</td>\n",
       "      <td>0</td>\n",
       "      <td>1</td>\n",
       "      <td>Yes</td>\n",
       "      <td>Private</td>\n",
       "      <td>Urban</td>\n",
       "      <td>228.69</td>\n",
       "      <td>36.6</td>\n",
       "      <td>formerly smoked</td>\n",
       "      <td>1</td>\n",
       "    </tr>\n",
       "    <tr>\n",
       "      <th>1</th>\n",
       "      <td>51676</td>\n",
       "      <td>Female</td>\n",
       "      <td>61.0</td>\n",
       "      <td>0</td>\n",
       "      <td>0</td>\n",
       "      <td>Yes</td>\n",
       "      <td>Self-employed</td>\n",
       "      <td>Rural</td>\n",
       "      <td>202.21</td>\n",
       "      <td>NaN</td>\n",
       "      <td>never smoked</td>\n",
       "      <td>1</td>\n",
       "    </tr>\n",
       "    <tr>\n",
       "      <th>2</th>\n",
       "      <td>31112</td>\n",
       "      <td>Male</td>\n",
       "      <td>80.0</td>\n",
       "      <td>0</td>\n",
       "      <td>1</td>\n",
       "      <td>Yes</td>\n",
       "      <td>Private</td>\n",
       "      <td>Rural</td>\n",
       "      <td>105.92</td>\n",
       "      <td>32.5</td>\n",
       "      <td>never smoked</td>\n",
       "      <td>1</td>\n",
       "    </tr>\n",
       "    <tr>\n",
       "      <th>3</th>\n",
       "      <td>60182</td>\n",
       "      <td>Female</td>\n",
       "      <td>49.0</td>\n",
       "      <td>0</td>\n",
       "      <td>0</td>\n",
       "      <td>Yes</td>\n",
       "      <td>Private</td>\n",
       "      <td>Urban</td>\n",
       "      <td>171.23</td>\n",
       "      <td>34.4</td>\n",
       "      <td>smokes</td>\n",
       "      <td>1</td>\n",
       "    </tr>\n",
       "    <tr>\n",
       "      <th>4</th>\n",
       "      <td>1665</td>\n",
       "      <td>Female</td>\n",
       "      <td>79.0</td>\n",
       "      <td>1</td>\n",
       "      <td>0</td>\n",
       "      <td>Yes</td>\n",
       "      <td>Self-employed</td>\n",
       "      <td>Rural</td>\n",
       "      <td>174.12</td>\n",
       "      <td>24.0</td>\n",
       "      <td>never smoked</td>\n",
       "      <td>1</td>\n",
       "    </tr>\n",
       "  </tbody>\n",
       "</table>\n",
       "</div>"
      ],
      "text/plain": [
       "      id  gender   age  hypertension  heart_disease ever_married  \\\n",
       "0   9046    Male  67.0             0              1          Yes   \n",
       "1  51676  Female  61.0             0              0          Yes   \n",
       "2  31112    Male  80.0             0              1          Yes   \n",
       "3  60182  Female  49.0             0              0          Yes   \n",
       "4   1665  Female  79.0             1              0          Yes   \n",
       "\n",
       "       work_type Residence_type  avg_glucose_level   bmi   smoking_status  \\\n",
       "0        Private          Urban             228.69  36.6  formerly smoked   \n",
       "1  Self-employed          Rural             202.21   NaN     never smoked   \n",
       "2        Private          Rural             105.92  32.5     never smoked   \n",
       "3        Private          Urban             171.23  34.4           smokes   \n",
       "4  Self-employed          Rural             174.12  24.0     never smoked   \n",
       "\n",
       "   stroke  \n",
       "0       1  \n",
       "1       1  \n",
       "2       1  \n",
       "3       1  \n",
       "4       1  "
      ]
     },
     "execution_count": 6,
     "metadata": {},
     "output_type": "execute_result"
    }
   ],
   "source": [
    "data.head()"
   ]
  },
  {
   "cell_type": "markdown",
   "id": "354b8ce4-118f-43b0-bd10-caf439de076b",
   "metadata": {},
   "source": [
    "# Quick EDA"
   ]
  },
  {
   "cell_type": "code",
   "execution_count": 7,
   "id": "eac63e0d-158a-4142-b4c0-c71c30a7858e",
   "metadata": {},
   "outputs": [
    {
     "name": "stdout",
     "output_type": "stream",
     "text": [
      "Data shape: (5110, 12)\n"
     ]
    },
    {
     "data": {
      "text/html": [
       "<div>\n",
       "<style scoped>\n",
       "    .dataframe tbody tr th:only-of-type {\n",
       "        vertical-align: middle;\n",
       "    }\n",
       "\n",
       "    .dataframe tbody tr th {\n",
       "        vertical-align: top;\n",
       "    }\n",
       "\n",
       "    .dataframe thead th {\n",
       "        text-align: right;\n",
       "    }\n",
       "</style>\n",
       "<table border=\"1\" class=\"dataframe\">\n",
       "  <thead>\n",
       "    <tr style=\"text-align: right;\">\n",
       "      <th></th>\n",
       "      <th>types</th>\n",
       "      <th>counts</th>\n",
       "      <th>distincts</th>\n",
       "      <th>nulls</th>\n",
       "      <th>missing ration</th>\n",
       "      <th>uniques</th>\n",
       "      <th>skewness</th>\n",
       "      <th>kurtosis</th>\n",
       "    </tr>\n",
       "  </thead>\n",
       "  <tbody>\n",
       "    <tr>\n",
       "      <th>Residence_type</th>\n",
       "      <td>object</td>\n",
       "      <td>5110</td>\n",
       "      <td>2</td>\n",
       "      <td>0</td>\n",
       "      <td>0.000000</td>\n",
       "      <td>[Urban, Rural]</td>\n",
       "      <td>NaN</td>\n",
       "      <td>NaN</td>\n",
       "    </tr>\n",
       "    <tr>\n",
       "      <th>age</th>\n",
       "      <td>float64</td>\n",
       "      <td>5110</td>\n",
       "      <td>104</td>\n",
       "      <td>0</td>\n",
       "      <td>0.000000</td>\n",
       "      <td>[67.0, 61.0, 80.0, 49.0, 79.0, 81.0, 74.0, 69.0, 59.0, 78.0, 54.0, 50.0, 64.0, 75.0, 60.0, 57.0,...</td>\n",
       "      <td>-0.137059</td>\n",
       "      <td>-0.991010</td>\n",
       "    </tr>\n",
       "    <tr>\n",
       "      <th>avg_glucose_level</th>\n",
       "      <td>float64</td>\n",
       "      <td>5110</td>\n",
       "      <td>3979</td>\n",
       "      <td>0</td>\n",
       "      <td>0.000000</td>\n",
       "      <td>[228.69, 202.21, 105.92, 171.23, 174.12, 186.21, 70.09, 94.39, 76.15, 58.57, 80.43, 120.46, 104....</td>\n",
       "      <td>1.572284</td>\n",
       "      <td>1.680479</td>\n",
       "    </tr>\n",
       "    <tr>\n",
       "      <th>bmi</th>\n",
       "      <td>float64</td>\n",
       "      <td>4909</td>\n",
       "      <td>419</td>\n",
       "      <td>201</td>\n",
       "      <td>3.933464</td>\n",
       "      <td>[36.6, nan, 32.5, 34.4, 24.0, 29.0, 27.4, 22.8, 24.2, 29.7, 36.8, 27.3, 28.2, 30.9, 37.5, 25.8, ...</td>\n",
       "      <td>1.055340</td>\n",
       "      <td>3.362659</td>\n",
       "    </tr>\n",
       "    <tr>\n",
       "      <th>ever_married</th>\n",
       "      <td>object</td>\n",
       "      <td>5110</td>\n",
       "      <td>2</td>\n",
       "      <td>0</td>\n",
       "      <td>0.000000</td>\n",
       "      <td>[Yes, No]</td>\n",
       "      <td>NaN</td>\n",
       "      <td>NaN</td>\n",
       "    </tr>\n",
       "    <tr>\n",
       "      <th>gender</th>\n",
       "      <td>object</td>\n",
       "      <td>5110</td>\n",
       "      <td>3</td>\n",
       "      <td>0</td>\n",
       "      <td>0.000000</td>\n",
       "      <td>[Male, Female, Other]</td>\n",
       "      <td>NaN</td>\n",
       "      <td>NaN</td>\n",
       "    </tr>\n",
       "    <tr>\n",
       "      <th>heart_disease</th>\n",
       "      <td>int64</td>\n",
       "      <td>5110</td>\n",
       "      <td>2</td>\n",
       "      <td>0</td>\n",
       "      <td>0.000000</td>\n",
       "      <td>[1, 0]</td>\n",
       "      <td>3.947244</td>\n",
       "      <td>13.586052</td>\n",
       "    </tr>\n",
       "    <tr>\n",
       "      <th>hypertension</th>\n",
       "      <td>int64</td>\n",
       "      <td>5110</td>\n",
       "      <td>2</td>\n",
       "      <td>0</td>\n",
       "      <td>0.000000</td>\n",
       "      <td>[0, 1]</td>\n",
       "      <td>2.715392</td>\n",
       "      <td>5.375456</td>\n",
       "    </tr>\n",
       "    <tr>\n",
       "      <th>id</th>\n",
       "      <td>int64</td>\n",
       "      <td>5110</td>\n",
       "      <td>5110</td>\n",
       "      <td>0</td>\n",
       "      <td>0.000000</td>\n",
       "      <td>[9046, 51676, 31112, 60182, 1665, 56669, 53882, 10434, 27419, 60491, 12109, 12095, 12175, 8213, ...</td>\n",
       "      <td>-0.019913</td>\n",
       "      <td>-1.212368</td>\n",
       "    </tr>\n",
       "    <tr>\n",
       "      <th>smoking_status</th>\n",
       "      <td>object</td>\n",
       "      <td>5110</td>\n",
       "      <td>4</td>\n",
       "      <td>0</td>\n",
       "      <td>0.000000</td>\n",
       "      <td>[formerly smoked, never smoked, smokes, Unknown]</td>\n",
       "      <td>NaN</td>\n",
       "      <td>NaN</td>\n",
       "    </tr>\n",
       "    <tr>\n",
       "      <th>stroke</th>\n",
       "      <td>int64</td>\n",
       "      <td>5110</td>\n",
       "      <td>2</td>\n",
       "      <td>0</td>\n",
       "      <td>0.000000</td>\n",
       "      <td>[1, 0]</td>\n",
       "      <td>4.193284</td>\n",
       "      <td>15.589736</td>\n",
       "    </tr>\n",
       "    <tr>\n",
       "      <th>work_type</th>\n",
       "      <td>object</td>\n",
       "      <td>5110</td>\n",
       "      <td>5</td>\n",
       "      <td>0</td>\n",
       "      <td>0.000000</td>\n",
       "      <td>[Private, Self-employed, Govt_job, children, Never_worked]</td>\n",
       "      <td>NaN</td>\n",
       "      <td>NaN</td>\n",
       "    </tr>\n",
       "  </tbody>\n",
       "</table>\n",
       "</div>"
      ],
      "text/plain": [
       "                     types  counts  distincts  nulls  missing ration  \\\n",
       "Residence_type      object    5110          2      0        0.000000   \n",
       "age                float64    5110        104      0        0.000000   \n",
       "avg_glucose_level  float64    5110       3979      0        0.000000   \n",
       "bmi                float64    4909        419    201        3.933464   \n",
       "ever_married        object    5110          2      0        0.000000   \n",
       "gender              object    5110          3      0        0.000000   \n",
       "heart_disease        int64    5110          2      0        0.000000   \n",
       "hypertension         int64    5110          2      0        0.000000   \n",
       "id                   int64    5110       5110      0        0.000000   \n",
       "smoking_status      object    5110          4      0        0.000000   \n",
       "stroke               int64    5110          2      0        0.000000   \n",
       "work_type           object    5110          5      0        0.000000   \n",
       "\n",
       "                                                                                                               uniques  \\\n",
       "Residence_type                                                                                          [Urban, Rural]   \n",
       "age                [67.0, 61.0, 80.0, 49.0, 79.0, 81.0, 74.0, 69.0, 59.0, 78.0, 54.0, 50.0, 64.0, 75.0, 60.0, 57.0,...   \n",
       "avg_glucose_level  [228.69, 202.21, 105.92, 171.23, 174.12, 186.21, 70.09, 94.39, 76.15, 58.57, 80.43, 120.46, 104....   \n",
       "bmi                [36.6, nan, 32.5, 34.4, 24.0, 29.0, 27.4, 22.8, 24.2, 29.7, 36.8, 27.3, 28.2, 30.9, 37.5, 25.8, ...   \n",
       "ever_married                                                                                                 [Yes, No]   \n",
       "gender                                                                                           [Male, Female, Other]   \n",
       "heart_disease                                                                                                   [1, 0]   \n",
       "hypertension                                                                                                    [0, 1]   \n",
       "id                 [9046, 51676, 31112, 60182, 1665, 56669, 53882, 10434, 27419, 60491, 12109, 12095, 12175, 8213, ...   \n",
       "smoking_status                                                        [formerly smoked, never smoked, smokes, Unknown]   \n",
       "stroke                                                                                                          [1, 0]   \n",
       "work_type                                                   [Private, Self-employed, Govt_job, children, Never_worked]   \n",
       "\n",
       "                   skewness   kurtosis  \n",
       "Residence_type          NaN        NaN  \n",
       "age               -0.137059  -0.991010  \n",
       "avg_glucose_level  1.572284   1.680479  \n",
       "bmi                1.055340   3.362659  \n",
       "ever_married            NaN        NaN  \n",
       "gender                  NaN        NaN  \n",
       "heart_disease      3.947244  13.586052  \n",
       "hypertension       2.715392   5.375456  \n",
       "id                -0.019913  -1.212368  \n",
       "smoking_status          NaN        NaN  \n",
       "stroke             4.193284  15.589736  \n",
       "work_type               NaN        NaN  "
      ]
     },
     "execution_count": 7,
     "metadata": {},
     "output_type": "execute_result"
    }
   ],
   "source": [
    "get_summary(data)"
   ]
  },
  {
   "cell_type": "markdown",
   "id": "4d4b95fb-b6da-44bb-9ca7-a607c22a8c0c",
   "metadata": {},
   "source": [
    "# EDA"
   ]
  },
  {
   "cell_type": "markdown",
   "id": "428c8923-92fa-4451-8c91-e5bb7294f8bc",
   "metadata": {},
   "source": [
    "## Data Types"
   ]
  },
  {
   "cell_type": "code",
   "execution_count": 12,
   "id": "7db96353-d74c-49ad-96e1-f2f54ec68bbd",
   "metadata": {},
   "outputs": [],
   "source": [
    "cuantitative_columns = ['age',\n",
    "                       'avg_glucose_level',\n",
    "                       'bmi']\n",
    "\n",
    "cualitative_columns = ['Residence_type',\n",
    " 'ever_married',\n",
    " 'gender',\n",
    " 'heart_disease',\n",
    " 'hypertension',\n",
    " 'smoking_status',\n",
    " 'stroke',\n",
    " 'work_type']\n",
    "\n",
    "date_columns = []\n",
    "\n",
    "code_columns = [\"id\"]\n",
    "\n",
    "text_columns = []\n",
    "\n",
    "columns_types_list = [cuantitative_columns, cualitative_columns, date_columns, code_columns, text_columns]"
   ]
  },
  {
   "cell_type": "code",
   "execution_count": 13,
   "id": "1ab2f8d7-58e6-4e26-aaf6-25dff7f649df",
   "metadata": {},
   "outputs": [
    {
     "data": {
      "text/plain": [
       "True"
      ]
     },
     "execution_count": 13,
     "metadata": {},
     "output_type": "execute_result"
    }
   ],
   "source": [
    "# To Avoid  Error Prone While writing Column Types\n",
    "very_amount_columns(data.columns.tolist(), columns_types_list)"
   ]
  },
  {
   "cell_type": "code",
   "execution_count": 14,
   "id": "6395bc92-f7cd-4b2a-9a96-dc1ee1576022",
   "metadata": {},
   "outputs": [],
   "source": [
    "columns_types_list_num = [len(c) for c in columns_types_list]\n",
    "columns_types_list_names = [\"Cuantitativos\", \"Cualitativos\", \"Fechas\", \"Códigos\", \"Textos\"]"
   ]
  },
  {
   "cell_type": "code",
   "execution_count": 16,
   "id": "d1c3908c-6292-49cf-8477-9612da02a089",
   "metadata": {},
   "outputs": [
    {
     "data": {
      "text/html": [
       "<div>\n",
       "<style scoped>\n",
       "    .dataframe tbody tr th:only-of-type {\n",
       "        vertical-align: middle;\n",
       "    }\n",
       "\n",
       "    .dataframe tbody tr th {\n",
       "        vertical-align: top;\n",
       "    }\n",
       "\n",
       "    .dataframe thead th {\n",
       "        text-align: right;\n",
       "    }\n",
       "</style>\n",
       "<table border=\"1\" class=\"dataframe\">\n",
       "  <thead>\n",
       "    <tr style=\"text-align: right;\">\n",
       "      <th></th>\n",
       "      <th>Tipos de Datos</th>\n",
       "      <th>Número de Columnas</th>\n",
       "    </tr>\n",
       "  </thead>\n",
       "  <tbody>\n",
       "    <tr>\n",
       "      <th>1</th>\n",
       "      <td>Cualitativos</td>\n",
       "      <td>8</td>\n",
       "    </tr>\n",
       "    <tr>\n",
       "      <th>0</th>\n",
       "      <td>Cuantitativos</td>\n",
       "      <td>3</td>\n",
       "    </tr>\n",
       "    <tr>\n",
       "      <th>3</th>\n",
       "      <td>Códigos</td>\n",
       "      <td>1</td>\n",
       "    </tr>\n",
       "    <tr>\n",
       "      <th>2</th>\n",
       "      <td>Fechas</td>\n",
       "      <td>0</td>\n",
       "    </tr>\n",
       "    <tr>\n",
       "      <th>4</th>\n",
       "      <td>Textos</td>\n",
       "      <td>0</td>\n",
       "    </tr>\n",
       "  </tbody>\n",
       "</table>\n",
       "</div>"
      ],
      "text/plain": [
       "  Tipos de Datos  Número de Columnas\n",
       "1   Cualitativos                   8\n",
       "0  Cuantitativos                   3\n",
       "3        Códigos                   1\n",
       "2         Fechas                   0\n",
       "4         Textos                   0"
      ]
     },
     "execution_count": 16,
     "metadata": {},
     "output_type": "execute_result"
    }
   ],
   "source": [
    "# Tipos de Datos\n",
    "tipos_datos_df = pd.DataFrame({\"Tipos de Datos\": columns_types_list_names,\n",
    "                               \"Número de Columnas\": columns_types_list_num})\n",
    "tipos_datos_df.sort_values(\"Número de Columnas\", ascending = False)"
   ]
  },
  {
   "cell_type": "code",
   "execution_count": 17,
   "id": "5700023b-9963-4c7f-8351-2b600b85355b",
   "metadata": {},
   "outputs": [
    {
     "name": "stdout",
     "output_type": "stream",
     "text": [
      "<class 'pandas.core.frame.DataFrame'>\n",
      "RangeIndex: 5110 entries, 0 to 5109\n",
      "Data columns (total 12 columns):\n",
      " #   Column             Non-Null Count  Dtype  \n",
      "---  ------             --------------  -----  \n",
      " 0   id                 5110 non-null   int64  \n",
      " 1   gender             5110 non-null   object \n",
      " 2   age                5110 non-null   float64\n",
      " 3   hypertension       5110 non-null   int64  \n",
      " 4   heart_disease      5110 non-null   int64  \n",
      " 5   ever_married       5110 non-null   object \n",
      " 6   work_type          5110 non-null   object \n",
      " 7   Residence_type     5110 non-null   object \n",
      " 8   avg_glucose_level  5110 non-null   float64\n",
      " 9   bmi                4909 non-null   float64\n",
      " 10  smoking_status     5110 non-null   object \n",
      " 11  stroke             5110 non-null   int64  \n",
      "dtypes: float64(3), int64(4), object(5)\n",
      "memory usage: 479.2+ KB\n"
     ]
    }
   ],
   "source": [
    "data.info()"
   ]
  },
  {
   "cell_type": "code",
   "execution_count": 18,
   "id": "e56d342c-b8fd-4ebc-9c35-a01ba4fd3b88",
   "metadata": {},
   "outputs": [
    {
     "name": "stdout",
     "output_type": "stream",
     "text": [
      "<class 'pandas.core.frame.DataFrame'>\n",
      "RangeIndex: 5110 entries, 0 to 5109\n",
      "Data columns (total 8 columns):\n",
      " #   Column          Non-Null Count  Dtype \n",
      "---  ------          --------------  ----- \n",
      " 0   Residence_type  5110 non-null   object\n",
      " 1   ever_married    5110 non-null   object\n",
      " 2   gender          5110 non-null   object\n",
      " 3   heart_disease   5110 non-null   int64 \n",
      " 4   hypertension    5110 non-null   int64 \n",
      " 5   smoking_status  5110 non-null   object\n",
      " 6   stroke          5110 non-null   int64 \n",
      " 7   work_type       5110 non-null   object\n",
      "dtypes: int64(3), object(5)\n",
      "memory usage: 319.5+ KB\n"
     ]
    }
   ],
   "source": [
    "data[cualitative_columns].info()"
   ]
  },
  {
   "cell_type": "code",
   "execution_count": 19,
   "id": "652354da-8fcf-415d-8674-d4fc35e79d91",
   "metadata": {},
   "outputs": [
    {
     "name": "stdout",
     "output_type": "stream",
     "text": [
      "<class 'pandas.core.frame.DataFrame'>\n",
      "RangeIndex: 5110 entries, 0 to 5109\n",
      "Data columns (total 3 columns):\n",
      " #   Column             Non-Null Count  Dtype  \n",
      "---  ------             --------------  -----  \n",
      " 0   age                5110 non-null   float64\n",
      " 1   avg_glucose_level  5110 non-null   float64\n",
      " 2   bmi                4909 non-null   float64\n",
      "dtypes: float64(3)\n",
      "memory usage: 119.9 KB\n"
     ]
    }
   ],
   "source": [
    "data[cuantitative_columns].info()"
   ]
  },
  {
   "cell_type": "markdown",
   "id": "d9f8783c-01c6-41af-a453-f0f7ae0ed9ff",
   "metadata": {},
   "source": [
    "## Data Dimention"
   ]
  },
  {
   "cell_type": "code",
   "execution_count": 21,
   "id": "29b3aaa8-94a2-4830-b2b9-794fc46e143e",
   "metadata": {},
   "outputs": [
    {
     "data": {
      "text/plain": [
       "(5110, 12)"
      ]
     },
     "execution_count": 21,
     "metadata": {},
     "output_type": "execute_result"
    }
   ],
   "source": [
    "data.shape"
   ]
  },
  {
   "cell_type": "markdown",
   "id": "39e16c79-50e7-4081-86e6-d24e4e540671",
   "metadata": {},
   "source": [
    "## Duplicated Rows"
   ]
  },
  {
   "cell_type": "code",
   "execution_count": 22,
   "id": "9b5bb720-d0cb-44ce-8a20-95671126c035",
   "metadata": {},
   "outputs": [
    {
     "data": {
      "text/plain": [
       "0"
      ]
     },
     "execution_count": 22,
     "metadata": {},
     "output_type": "execute_result"
    }
   ],
   "source": [
    "data.duplicated().sum()"
   ]
  },
  {
   "cell_type": "markdown",
   "id": "178ac624-712f-4509-a69d-2ac4d4e552f4",
   "metadata": {
    "tags": []
   },
   "source": [
    "## Distribution of Cuantitative Variables"
   ]
  },
  {
   "cell_type": "code",
   "execution_count": 23,
   "id": "4881e9c3-8e73-4676-aad6-0ac9c272fe1a",
   "metadata": {},
   "outputs": [],
   "source": [
    "for col in cuantitative_columns:\n",
    "    n_zero_values = (data[col] == 0).sum()\n",
    "    n_negative_values = (data[col] < 0).sum()\n",
    "    if n_zero_values > 0:\n",
    "        print(f\"The variable {col} has {n_zero_values} cero values.\")\n",
    "    if n_negative_values > 0:\n",
    "        print(f\"The variable {col} has {n_negative_values} cero values.\")"
   ]
  },
  {
   "cell_type": "code",
   "execution_count": 26,
   "id": "38213d4f-dd4c-4152-aacc-a01f14129cbd",
   "metadata": {},
   "outputs": [
    {
     "data": {
      "image/png": "[encoded data removed]",
      "text/plain": [
       "<Figure size 1080x360 with 3 Axes>"
      ]
     },
     "metadata": {},
     "output_type": "display_data"
    }
   ],
   "source": [
    "fig, axes = plt.subplots(nrows = 1, ncols = 3, figsize = (15, 5))\n",
    "axes = axes.flat\n",
    "for i, col in enumerate(cuantitative_columns):\n",
    "    data[col].plot.hist(title = col, ax = axes[i])\n",
    "plt.show()"
   ]
  },
  {
   "cell_type": "markdown",
   "id": "63ad8ec8-9c2a-4766-abc6-6bf470d59092",
   "metadata": {},
   "source": [
    "## Distribution of Cuantitative Variables"
   ]
  },
  {
   "cell_type": "code",
   "execution_count": 37,
   "id": "64f8ecf8-be2f-4f07-ac08-fa56b6134214",
   "metadata": {},
   "outputs": [
    {
     "data": {
      "image/png": "[encoded data removed]",
      "text/plain": [
       "<Figure size 1440x2160 with 8 Axes>"
      ]
     },
     "metadata": {},
     "output_type": "display_data"
    }
   ],
   "source": [
    "fig, axes = plt.subplots(nrows = 4, ncols = 2, figsize = (20, 30))\n",
    "axes = axes.flat\n",
    "for i, col in enumerate(cualitative_columns):\n",
    "    data[col].value_counts().plot.bar(title = col, ax = axes[i], rot = 15)\n",
    "plt.show()"
   ]
  },
  {
   "cell_type": "markdown",
   "id": "efe8547d-3519-4bfc-95d8-6c91ce9f0265",
   "metadata": {},
   "source": [
    "## Missing Values"
   ]
  },
  {
   "cell_type": "code",
   "execution_count": 38,
   "id": "18a54fe9-3f79-4e3b-9c1e-12a323ae88ed",
   "metadata": {},
   "outputs": [
    {
     "data": {
      "text/plain": [
       "1"
      ]
     },
     "execution_count": 38,
     "metadata": {},
     "output_type": "execute_result"
    }
   ],
   "source": [
    "# Columns with Missing Values\n",
    "(data.isna().sum() > 0).sum()"
   ]
  },
  {
   "cell_type": "code",
   "execution_count": 39,
   "id": "f9ac93e0-bb62-43ee-a995-48238944a9f4",
   "metadata": {},
   "outputs": [
    {
     "data": {
      "image/png": "[encoded data removed]",
      "text/plain": [
       "<Figure size 720x504 with 1 Axes>"
      ]
     },
     "metadata": {},
     "output_type": "display_data"
    }
   ],
   "source": [
    "plot_missing_values(data)"
   ]
  },
  {
   "cell_type": "markdown",
   "id": "774a6fbc-d6d0-4d5d-a3a7-6027b69d6272",
   "metadata": {},
   "source": [
    "## Outliers"
   ]
  },
  {
   "cell_type": "code",
   "execution_count": 41,
   "id": "1da54183-461a-4b21-ac63-210a7da6bc4d",
   "metadata": {},
   "outputs": [
    {
     "data": {
      "image/png": "[encoded data removed]",
      "text/plain": [
       "<Figure size 1080x360 with 3 Axes>"
      ]
     },
     "metadata": {},
     "output_type": "display_data"
    }
   ],
   "source": [
    "fig, axes = plt.subplots(nrows = 1, ncols = 3, figsize = (15, 5))\n",
    "axes = axes.flat\n",
    "for i, col in enumerate(cuantitative_columns):\n",
    "    sns.boxplot(x = data[col], ax = axes[i])"
   ]
  },
  {
   "cell_type": "markdown",
   "id": "62db657b-ad63-4a12-a0d8-4eaa4d31da8d",
   "metadata": {},
   "source": [
    "## Correlación"
   ]
  },
  {
   "cell_type": "code",
   "execution_count": 42,
   "id": "a88ba23e-7ca1-4546-8126-858670d406ab",
   "metadata": {},
   "outputs": [],
   "source": [
    "corr_matrix = data[cuantitative_columns].corr(method='pearson')"
   ]
  },
  {
   "cell_type": "code",
   "execution_count": 43,
   "id": "7f057380-abe0-40e7-bcd5-ffed217c07e5",
   "metadata": {},
   "outputs": [
    {
     "data": {
      "text/html": [
       "<div>\n",
       "<style scoped>\n",
       "    .dataframe tbody tr th:only-of-type {\n",
       "        vertical-align: middle;\n",
       "    }\n",
       "\n",
       "    .dataframe tbody tr th {\n",
       "        vertical-align: top;\n",
       "    }\n",
       "\n",
       "    .dataframe thead th {\n",
       "        text-align: right;\n",
       "    }\n",
       "</style>\n",
       "<table border=\"1\" class=\"dataframe\">\n",
       "  <thead>\n",
       "    <tr style=\"text-align: right;\">\n",
       "      <th></th>\n",
       "      <th>variable_1</th>\n",
       "      <th>variable_2</th>\n",
       "      <th>r</th>\n",
       "      <th>abs_r</th>\n",
       "    </tr>\n",
       "  </thead>\n",
       "  <tbody>\n",
       "    <tr>\n",
       "      <th>0</th>\n",
       "      <td>bmi</td>\n",
       "      <td>age</td>\n",
       "      <td>0.333398</td>\n",
       "      <td>0.333398</td>\n",
       "    </tr>\n",
       "    <tr>\n",
       "      <th>1</th>\n",
       "      <td>avg_glucose_level</td>\n",
       "      <td>age</td>\n",
       "      <td>0.238171</td>\n",
       "      <td>0.238171</td>\n",
       "    </tr>\n",
       "    <tr>\n",
       "      <th>2</th>\n",
       "      <td>bmi</td>\n",
       "      <td>avg_glucose_level</td>\n",
       "      <td>0.175502</td>\n",
       "      <td>0.175502</td>\n",
       "    </tr>\n",
       "  </tbody>\n",
       "</table>\n",
       "</div>"
      ],
      "text/plain": [
       "          variable_1         variable_2         r     abs_r\n",
       "0                bmi                age  0.333398  0.333398\n",
       "1  avg_glucose_level                age  0.238171  0.238171\n",
       "2                bmi  avg_glucose_level  0.175502  0.175502"
      ]
     },
     "execution_count": 43,
     "metadata": {},
     "output_type": "execute_result"
    }
   ],
   "source": [
    "tidy_corr_matrix(corr_matrix).head(10)"
   ]
  },
  {
   "cell_type": "code",
   "execution_count": 44,
   "id": "d027188d-d400-4d77-a015-163b11224831",
   "metadata": {},
   "outputs": [],
   "source": [
    "tidy_corr_mat = tidy_corr_matrix(corr_matrix).head(10)\n",
    "top_10_corr = set(tidy_corr_mat.variable_1.tolist() + tidy_corr_mat.variable_2.tolist())\n",
    "corr_matrix_top10 = data[top_10_corr].corr(method='pearson')"
   ]
  },
  {
   "cell_type": "code",
   "execution_count": 45,
   "id": "48f6576f-dfa8-48a5-8465-6f9c6d638b80",
   "metadata": {},
   "outputs": [
    {
     "data": {
      "text/plain": [
       "<AxesSubplot:>"
      ]
     },
     "execution_count": 45,
     "metadata": {},
     "output_type": "execute_result"
    },
    {
     "data": {
      "image/png": "[encoded data removed]",
      "text/plain": [
       "<Figure size 1440x1440 with 2 Axes>"
      ]
     },
     "metadata": {},
     "output_type": "display_data"
    }
   ],
   "source": [
    "fig, ax = plt.subplots(nrows=1, ncols=1, figsize = (20, 20))\n",
    "sns.heatmap(corr_matrix_top10, fmt = '.2f', cmap = \"Blues\", annot = True)"
   ]
  },
  {
   "cell_type": "code",
   "execution_count": null,
   "id": "609e4e93-cd50-43a9-a81e-6c3eb826e129",
   "metadata": {},
   "outputs": [],
   "source": []
  },
  {
   "cell_type": "code",
   "execution_count": null,
   "id": "7e0fe611-b222-4474-b41a-e47200e0fad0",
   "metadata": {},
   "outputs": [],
   "source": []
  },
  {
   "cell_type": "code",
   "execution_count": null,
   "id": "0b3c85bb-ef4e-44d9-87dc-cf32630e4655",
   "metadata": {},
   "outputs": [],
   "source": []
  }
 ],
 "metadata": {
  "kernelspec": {
   "display_name": "ds",
   "language": "python",
   "name": "ds"
  },
  "language_info": {
   "codemirror_mode": {
    "name": "ipython",
    "version": 3
   },
   "file_extension": ".py",
   "mimetype": "text/x-python",
   "name": "python",
   "nbconvert_exporter": "python",
   "pygments_lexer": "ipython3",
   "version": "3.10.0"
  }
 },
 "nbformat": 4,
 "nbformat_minor": 5
}
