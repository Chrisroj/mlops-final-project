{
 "cells": [
  {
   "cell_type": "code",
   "execution_count": 11,
   "id": "641bcc9d-7396-4a8d-ab61-0fcab48e0781",
   "metadata": {},
   "outputs": [
    {
     "data": {
      "text/plain": [
       "<Experiment: artifact_location='./mlruns/1', experiment_id='1', lifecycle_stage='active', name='stroke-prediction', tags={}>"
      ]
     },
     "execution_count": 11,
     "metadata": {},
     "output_type": "execute_result"
    }
   ],
   "source": [
    "import os\n",
    "\n",
    "# Data Manipulation\n",
    "import numpy as np\n",
    "import pandas as pd\n",
    "\n",
    "# Preprocessing\n",
    "from sklearn.model_selection import train_test_split\n",
    "from sklearn.impute import SimpleImputer\n",
    "from sklearn.preprocessing import OrdinalEncoder, StandardScaler\n",
    "from sklearn.compose import ColumnTransformer\n",
    "from imblearn.over_sampling import SMOTE\n",
    "from imblearn.pipeline import Pipeline\n",
    "\n",
    "# Modeling\n",
    "from sklearn.ensemble import RandomForestClassifier\n",
    "from sklearn.metrics import precision_score, recall_score, accuracy_score, f1_score\n",
    "\n",
    "# MLflow\n",
    "import mlflow\n",
    "\n",
    "mlflow.set_tracking_uri(\"sqlite:///mlflow.db\")\n",
    "mlflow.set_experiment(\"stroke-prediction\")"
   ]
  },
  {
   "cell_type": "markdown",
   "id": "760e5adc-59fa-44af-8876-9185aa2e4c07",
   "metadata": {},
   "source": [
    "# Global Variables"
   ]
  },
  {
   "cell_type": "code",
   "execution_count": 2,
   "id": "c9acfbf0-57da-40b7-ac00-d1a63832102d",
   "metadata": {},
   "outputs": [],
   "source": [
    "RANDOM_STATE = 12354"
   ]
  },
  {
   "cell_type": "markdown",
   "id": "80a15a48-cdd3-446c-9505-585439cb6495",
   "metadata": {},
   "source": [
    "# Read Data"
   ]
  },
  {
   "cell_type": "code",
   "execution_count": 3,
   "id": "c642150a-57ce-4bcd-98ff-00bf62478e29",
   "metadata": {},
   "outputs": [],
   "source": [
    "# Paths\n",
    "root = os.getcwd()\n",
    "data_folder_path = os.path.join(\"data\")\n",
    "data_file_path = os.path.join(data_folder_path, \"healthcare-dataset-stroke-data.csv\")"
   ]
  },
  {
   "cell_type": "code",
   "execution_count": 4,
   "id": "86f82f46-bb37-4f9c-af78-fff36f838c99",
   "metadata": {},
   "outputs": [],
   "source": [
    "# Read Data\n",
    "data = pd.read_csv(data_file_path)"
   ]
  },
  {
   "cell_type": "markdown",
   "id": "3d9c3727-38ea-436c-898e-f0105b144e2a",
   "metadata": {},
   "source": [
    "# Preproccesing"
   ]
  },
  {
   "cell_type": "markdown",
   "id": "ce382520-4beb-478d-8d2c-24ef1de007a8",
   "metadata": {},
   "source": [
    "1. Deal with missing values\n",
    "2. Use SMOTE to deal with imbalanced data"
   ]
  },
  {
   "cell_type": "code",
   "execution_count": 5,
   "id": "19261c0a-c3c4-44c9-a270-f407181b96a6",
   "metadata": {},
   "outputs": [],
   "source": [
    "# Selecting Features and Target\n",
    "y_target = \"stroke\"\n",
    "X_features = [c for c in data.columns if c != y_target]\n",
    "\n",
    "y = data[y_target].copy()\n",
    "X = data[X_features].copy()"
   ]
  },
  {
   "cell_type": "code",
   "execution_count": 6,
   "id": "6920481e-0597-4f00-b799-bb8c1d17e64c",
   "metadata": {},
   "outputs": [],
   "source": [
    "# Split Data\n",
    "X_train, X_test, y_train, y_test = train_test_split(X, y, test_size = 0.25, random_state = RANDOM_STATE)"
   ]
  },
  {
   "cell_type": "code",
   "execution_count": 7,
   "id": "26e30132-30d3-407a-864e-0f77dbdb42d0",
   "metadata": {},
   "outputs": [],
   "source": [
    "# Pipelines For Column Tranformation\n",
    "numeric_columns = ['age', 'avg_glucose_level', 'bmi']\n",
    "categorical_columns = ['Residence_type', 'ever_married', 'gender', 'heart_disease',\n",
    "                       'hypertension', 'smoking_status', 'work_type']\n",
    "\n",
    "numeric_pipeline = Pipeline(steps = \n",
    "                            [(\"imputer\", SimpleImputer(strategy = \"median\"))])\n",
    "\n",
    "categorical_pipeline = Pipeline(steps =\n",
    "                                [(\"encoder\", OrdinalEncoder(handle_unknown = \"use_encoded_value\",\n",
    "                                                            unknown_value = np.nan)),\n",
    "                                (\"imputer\", SimpleImputer(strategy = \"most_frequent\"))])\n",
    "\n",
    "column_trans = ColumnTransformer(\n",
    "    [(\"num_columns\", numeric_pipeline, numeric_columns),\n",
    "     (\"cat_columns\", categorical_pipeline, categorical_columns)])"
   ]
  },
  {
   "cell_type": "markdown",
   "id": "b855ee34-3cff-48d7-94cd-02ac60d45415",
   "metadata": {},
   "source": [
    "# Model Trainning"
   ]
  },
  {
   "cell_type": "markdown",
   "id": "43e95f4d-ddcf-466c-98f1-ee86aedddb3f",
   "metadata": {},
   "source": [
    "Recall:\n",
    "Precission.\n",
    "Definir métrica\n",
    "f1_score\n",
    "roc"
   ]
  },
  {
   "cell_type": "code",
   "execution_count": 8,
   "id": "2f96cedc-11b4-4431-baaf-9937119d5b42",
   "metadata": {},
   "outputs": [],
   "source": [
    "# Adding SMOTE and Random forest to the pipeline\n",
    "rf_pipeline = Pipeline(steps = [\n",
    "        (\"transformations\", column_trans),\n",
    "        (\"oversampling\", SMOTE(random_state = RANDOM_STATE)),\n",
    "        (\"rf_estimator\", RandomForestClassifier())\n",
    "])"
   ]
  },
  {
   "cell_type": "markdown",
   "id": "de0452ec-7f18-4a2a-bbcf-a62dfd906b95",
   "metadata": {},
   "source": [
    "## Tracking a Single Experiment Run"
   ]
  },
  {
   "cell_type": "code",
   "execution_count": 32,
   "id": "ac3bae9e-b916-414f-8773-1ad89b52157a",
   "metadata": {},
   "outputs": [],
   "source": [
    "with mlflow.start_run():\n",
    "    mlflow.set_tag(\"developer\", \"Chris\")\n",
    "    \n",
    "    rf_params = {\"n_estimators\": 1000,\n",
    "                \"max_features\": 5,\n",
    "                \"max_depth\": 4,\n",
    "                \"ccp_alpha\": 0.1,\n",
    "                \"random_state\": RANDOM_STATE,\n",
    "                \"n_jobs\": -1}\n",
    "    mlflow.log_params(rf_params)\n",
    "    rf_pipeline.named_steps[\"rf_estimator\"].set_params(**rf_params)\n",
    "    \n",
    "    rf_pipeline.fit(X_train, y_train)\n",
    "    \n",
    "    y_pred = rf_pipeline.predict(X_test)\n",
    "    mlflow.log_metric(\"precission\", precision_score(y_test, y_pred))\n",
    "    mlflow.log_metric(\"recall\", recall_score(y_test, y_pred))\n",
    "    mlflow.log_metric(\"accuracy\", accuracy_score(y_test, y_pred))"
   ]
  },
  {
   "cell_type": "markdown",
   "id": "2a759a24-bed3-4bdb-a472-fa6a8953a9ec",
   "metadata": {},
   "source": [
    "## Tracking a Multiples Experiment Runs"
   ]
  },
  {
   "cell_type": "code",
   "execution_count": 41,
   "id": "bc15e3e4-dc22-4433-81af-6ee82508fca0",
   "metadata": {},
   "outputs": [
    {
     "name": "stdout",
     "output_type": "stream",
     "text": [
      "100%|███████████████████████████████████████████████████████████████████████████████| 50/50 [00:57<00:00,  1.14s/trial, best loss: -0.20848056537102472]\n"
     ]
    }
   ],
   "source": [
    "from hyperopt import fmin, tpe, hp, STATUS_OK, Trials\n",
    "from hyperopt.pyll import scope\n",
    "\n",
    "# Without Cross Validation\n",
    "def objective(params):\n",
    "    with mlflow.start_run():\n",
    "        mlflow.set_tag(\"developer\", \"Chris\")\n",
    "        mlflow.set_tag(\"model_type\", \"RandomForest\")\n",
    "        mlflow.set_tag(\"tunning_type\", \"tpe\")\n",
    "        \n",
    "        mlflow.log_params(params)\n",
    "        rf_pipeline.named_steps[\"rf_estimator\"].set_params(**params)\n",
    "        \n",
    "        rf_pipeline.fit(X_train, y_train)\n",
    "        \n",
    "        y_pred = rf_pipeline.predict(X_test)\n",
    "        recall = recall_score(y_test, y_pred)\n",
    "        precission = precision_score(y_test, y_pred)\n",
    "        f1 = f1_score(y_test, y_pred)\n",
    "        mlflow.log_metric(\"precission\", precission)\n",
    "        mlflow.log_metric(\"recall\", recall)\n",
    "        mlflow.log_metric(\"f1\", f1)\n",
    "\n",
    "    return {'loss': -f1, 'status': STATUS_OK}\n",
    "\n",
    "search_space = {\n",
    "    'max_depth': scope.int(hp.quniform('max_depth', 4, 100, 1)),\n",
    "    \"n_estimators\": scope.int(hp.quniform('n_estimators', 100, 1000, 1)),\n",
    "    \"max_features\": scope.int(hp.quniform('max_features', 2, 8, 1)),\n",
    "    \"ccp_alpha\": hp.uniform('ccp_alpha', 0.0000000001, 0.1),\n",
    "    'random_state': RANDOM_STATE \n",
    "}\n",
    "\n",
    "best_result = fmin(\n",
    "    fn = objective,\n",
    "    space = search_space,\n",
    "    algo = tpe.suggest,\n",
    "    max_evals = 50,\n",
    "    trials = Trials()\n",
    ")"
   ]
  },
  {
   "cell_type": "code",
   "execution_count": null,
   "id": "49af02e9-1bb6-4cae-b40c-1346b1eddaf7",
   "metadata": {},
   "outputs": [],
   "source": []
  },
  {
   "cell_type": "code",
   "execution_count": null,
   "id": "18fb3bed-2a22-49ba-818f-f7ffb29e2cfb",
   "metadata": {},
   "outputs": [],
   "source": []
  },
  {
   "cell_type": "code",
   "execution_count": null,
   "id": "83035db4-5cc3-403d-a369-1f167ac143b0",
   "metadata": {},
   "outputs": [],
   "source": []
  },
  {
   "cell_type": "code",
   "execution_count": null,
   "id": "1daa81f0-cb28-4238-be27-886aea786640",
   "metadata": {},
   "outputs": [],
   "source": [
    "# Mlflow colaborativo\n",
    "# Tracking\n",
    "# Despliegue Fácil"
   ]
  },
  {
   "cell_type": "code",
   "execution_count": null,
   "id": "4d5ecff7-4ae2-4a39-b488-c5770beb1b76",
   "metadata": {},
   "outputs": [],
   "source": []
  },
  {
   "cell_type": "code",
   "execution_count": null,
   "id": "cc26a629-3b1e-4620-ba8b-3229770df819",
   "metadata": {},
   "outputs": [],
   "source": []
  },
  {
   "cell_type": "code",
   "execution_count": null,
   "id": "1590c8d2-e8b6-4b99-9163-49c4747a2a8f",
   "metadata": {},
   "outputs": [],
   "source": []
  },
  {
   "cell_type": "code",
   "execution_count": null,
   "id": "fd1c11f3-61da-4ebe-b054-84383f510d5a",
   "metadata": {},
   "outputs": [],
   "source": []
  },
  {
   "cell_type": "code",
   "execution_count": null,
   "id": "d371c171-c919-4b42-b476-750e5ed4310f",
   "metadata": {},
   "outputs": [],
   "source": [
    "# Permisos"
   ]
  },
  {
   "cell_type": "code",
   "execution_count": null,
   "id": "fb0ad0cb-e8da-411a-8b1a-07841d8dc9ed",
   "metadata": {},
   "outputs": [],
   "source": []
  },
  {
   "cell_type": "code",
   "execution_count": null,
   "id": "18830bd2-725a-4f81-acdb-da48296d6523",
   "metadata": {},
   "outputs": [],
   "source": []
  },
  {
   "cell_type": "code",
   "execution_count": null,
   "id": "0702cbf2-a783-4148-b7e6-b18fa17a14b6",
   "metadata": {},
   "outputs": [],
   "source": []
  },
  {
   "cell_type": "code",
   "execution_count": null,
   "id": "8f04c298-987a-43f6-9d9a-f1a1b09aca30",
   "metadata": {},
   "outputs": [],
   "source": []
  },
  {
   "cell_type": "code",
   "execution_count": 44,
   "id": "80ac8834-0d98-4c61-9540-514366972edd",
   "metadata": {},
   "outputs": [
    {
     "data": {
      "text/plain": [
       "1731    0\n",
       "2073    0\n",
       "3444    0\n",
       "4536    0\n",
       "1428    0\n",
       "       ..\n",
       "2287    0\n",
       "4731    0\n",
       "3370    0\n",
       "22      1\n",
       "3172    0\n",
       "Name: stroke, Length: 3832, dtype: int64"
      ]
     },
     "execution_count": 44,
     "metadata": {},
     "output_type": "execute_result"
    }
   ],
   "source": [
    "y_train"
   ]
  },
  {
   "cell_type": "code",
   "execution_count": 42,
   "id": "3a95f8f7-60eb-41fb-8a68-7c81f5c5ee7b",
   "metadata": {},
   "outputs": [
    {
     "data": {
      "text/html": [
       "<div>\n",
       "<style scoped>\n",
       "    .dataframe tbody tr th:only-of-type {\n",
       "        vertical-align: middle;\n",
       "    }\n",
       "\n",
       "    .dataframe tbody tr th {\n",
       "        vertical-align: top;\n",
       "    }\n",
       "\n",
       "    .dataframe thead th {\n",
       "        text-align: right;\n",
       "    }\n",
       "</style>\n",
       "<table border=\"1\" class=\"dataframe\">\n",
       "  <thead>\n",
       "    <tr style=\"text-align: right;\">\n",
       "      <th></th>\n",
       "      <th>id</th>\n",
       "      <th>gender</th>\n",
       "      <th>age</th>\n",
       "      <th>hypertension</th>\n",
       "      <th>heart_disease</th>\n",
       "      <th>ever_married</th>\n",
       "      <th>work_type</th>\n",
       "      <th>Residence_type</th>\n",
       "      <th>avg_glucose_level</th>\n",
       "      <th>bmi</th>\n",
       "      <th>smoking_status</th>\n",
       "    </tr>\n",
       "  </thead>\n",
       "  <tbody>\n",
       "    <tr>\n",
       "      <th>1731</th>\n",
       "      <td>54058</td>\n",
       "      <td>Female</td>\n",
       "      <td>22.0</td>\n",
       "      <td>0</td>\n",
       "      <td>0</td>\n",
       "      <td>No</td>\n",
       "      <td>Private</td>\n",
       "      <td>Urban</td>\n",
       "      <td>56.84</td>\n",
       "      <td>29.9</td>\n",
       "      <td>smokes</td>\n",
       "    </tr>\n",
       "    <tr>\n",
       "      <th>2073</th>\n",
       "      <td>49615</td>\n",
       "      <td>Female</td>\n",
       "      <td>12.0</td>\n",
       "      <td>0</td>\n",
       "      <td>0</td>\n",
       "      <td>No</td>\n",
       "      <td>children</td>\n",
       "      <td>Urban</td>\n",
       "      <td>58.14</td>\n",
       "      <td>21.3</td>\n",
       "      <td>never smoked</td>\n",
       "    </tr>\n",
       "    <tr>\n",
       "      <th>3444</th>\n",
       "      <td>51116</td>\n",
       "      <td>Female</td>\n",
       "      <td>40.0</td>\n",
       "      <td>0</td>\n",
       "      <td>0</td>\n",
       "      <td>Yes</td>\n",
       "      <td>Self-employed</td>\n",
       "      <td>Urban</td>\n",
       "      <td>64.66</td>\n",
       "      <td>25.0</td>\n",
       "      <td>formerly smoked</td>\n",
       "    </tr>\n",
       "    <tr>\n",
       "      <th>4536</th>\n",
       "      <td>59405</td>\n",
       "      <td>Female</td>\n",
       "      <td>68.0</td>\n",
       "      <td>1</td>\n",
       "      <td>0</td>\n",
       "      <td>Yes</td>\n",
       "      <td>Private</td>\n",
       "      <td>Urban</td>\n",
       "      <td>150.74</td>\n",
       "      <td>40.3</td>\n",
       "      <td>Unknown</td>\n",
       "    </tr>\n",
       "    <tr>\n",
       "      <th>1428</th>\n",
       "      <td>46373</td>\n",
       "      <td>Female</td>\n",
       "      <td>57.0</td>\n",
       "      <td>0</td>\n",
       "      <td>0</td>\n",
       "      <td>Yes</td>\n",
       "      <td>Private</td>\n",
       "      <td>Rural</td>\n",
       "      <td>169.97</td>\n",
       "      <td>25.8</td>\n",
       "      <td>never smoked</td>\n",
       "    </tr>\n",
       "    <tr>\n",
       "      <th>...</th>\n",
       "      <td>...</td>\n",
       "      <td>...</td>\n",
       "      <td>...</td>\n",
       "      <td>...</td>\n",
       "      <td>...</td>\n",
       "      <td>...</td>\n",
       "      <td>...</td>\n",
       "      <td>...</td>\n",
       "      <td>...</td>\n",
       "      <td>...</td>\n",
       "      <td>...</td>\n",
       "    </tr>\n",
       "    <tr>\n",
       "      <th>2287</th>\n",
       "      <td>15964</td>\n",
       "      <td>Female</td>\n",
       "      <td>64.0</td>\n",
       "      <td>1</td>\n",
       "      <td>0</td>\n",
       "      <td>Yes</td>\n",
       "      <td>Private</td>\n",
       "      <td>Rural</td>\n",
       "      <td>99.40</td>\n",
       "      <td>29.1</td>\n",
       "      <td>never smoked</td>\n",
       "    </tr>\n",
       "    <tr>\n",
       "      <th>4731</th>\n",
       "      <td>17130</td>\n",
       "      <td>Female</td>\n",
       "      <td>23.0</td>\n",
       "      <td>0</td>\n",
       "      <td>0</td>\n",
       "      <td>No</td>\n",
       "      <td>Private</td>\n",
       "      <td>Rural</td>\n",
       "      <td>76.56</td>\n",
       "      <td>30.1</td>\n",
       "      <td>never smoked</td>\n",
       "    </tr>\n",
       "    <tr>\n",
       "      <th>3370</th>\n",
       "      <td>46767</td>\n",
       "      <td>Female</td>\n",
       "      <td>8.0</td>\n",
       "      <td>0</td>\n",
       "      <td>0</td>\n",
       "      <td>No</td>\n",
       "      <td>children</td>\n",
       "      <td>Rural</td>\n",
       "      <td>67.84</td>\n",
       "      <td>24.0</td>\n",
       "      <td>Unknown</td>\n",
       "    </tr>\n",
       "    <tr>\n",
       "      <th>22</th>\n",
       "      <td>68794</td>\n",
       "      <td>Female</td>\n",
       "      <td>79.0</td>\n",
       "      <td>0</td>\n",
       "      <td>0</td>\n",
       "      <td>Yes</td>\n",
       "      <td>Self-employed</td>\n",
       "      <td>Urban</td>\n",
       "      <td>228.70</td>\n",
       "      <td>26.6</td>\n",
       "      <td>never smoked</td>\n",
       "    </tr>\n",
       "    <tr>\n",
       "      <th>3172</th>\n",
       "      <td>40379</td>\n",
       "      <td>Female</td>\n",
       "      <td>57.0</td>\n",
       "      <td>0</td>\n",
       "      <td>0</td>\n",
       "      <td>Yes</td>\n",
       "      <td>Private</td>\n",
       "      <td>Rural</td>\n",
       "      <td>98.57</td>\n",
       "      <td>31.6</td>\n",
       "      <td>never smoked</td>\n",
       "    </tr>\n",
       "  </tbody>\n",
       "</table>\n",
       "<p>3832 rows × 11 columns</p>\n",
       "</div>"
      ],
      "text/plain": [
       "         id  gender   age  hypertension  heart_disease ever_married  \\\n",
       "1731  54058  Female  22.0             0              0           No   \n",
       "2073  49615  Female  12.0             0              0           No   \n",
       "3444  51116  Female  40.0             0              0          Yes   \n",
       "4536  59405  Female  68.0             1              0          Yes   \n",
       "1428  46373  Female  57.0             0              0          Yes   \n",
       "...     ...     ...   ...           ...            ...          ...   \n",
       "2287  15964  Female  64.0             1              0          Yes   \n",
       "4731  17130  Female  23.0             0              0           No   \n",
       "3370  46767  Female   8.0             0              0           No   \n",
       "22    68794  Female  79.0             0              0          Yes   \n",
       "3172  40379  Female  57.0             0              0          Yes   \n",
       "\n",
       "          work_type Residence_type  avg_glucose_level   bmi   smoking_status  \n",
       "1731        Private          Urban              56.84  29.9           smokes  \n",
       "2073       children          Urban              58.14  21.3     never smoked  \n",
       "3444  Self-employed          Urban              64.66  25.0  formerly smoked  \n",
       "4536        Private          Urban             150.74  40.3          Unknown  \n",
       "1428        Private          Rural             169.97  25.8     never smoked  \n",
       "...             ...            ...                ...   ...              ...  \n",
       "2287        Private          Rural              99.40  29.1     never smoked  \n",
       "4731        Private          Rural              76.56  30.1     never smoked  \n",
       "3370       children          Rural              67.84  24.0          Unknown  \n",
       "22    Self-employed          Urban             228.70  26.6     never smoked  \n",
       "3172        Private          Rural              98.57  31.6     never smoked  \n",
       "\n",
       "[3832 rows x 11 columns]"
      ]
     },
     "execution_count": 42,
     "metadata": {},
     "output_type": "execute_result"
    }
   ],
   "source": [
    "X_train"
   ]
  },
  {
   "cell_type": "code",
   "execution_count": null,
   "id": "c809c7d2-53b4-4b1e-bf2b-9dba9490d729",
   "metadata": {},
   "outputs": [],
   "source": []
  },
  {
   "cell_type": "code",
   "execution_count": null,
   "id": "094d4609-277e-490b-aecd-005ee5885a3a",
   "metadata": {},
   "outputs": [],
   "source": []
  },
  {
   "cell_type": "code",
   "execution_count": null,
   "id": "64779bd2-8f65-420d-83ab-00f81297aba6",
   "metadata": {},
   "outputs": [],
   "source": []
  },
  {
   "cell_type": "code",
   "execution_count": null,
   "id": "340aa88f-0797-4987-8167-7a70fc9e4b62",
   "metadata": {},
   "outputs": [],
   "source": [
    "# De los resultados de validación cruzada de sklearn como los puedo ver en el mlflow para ver la distribución de estos errores?"
   ]
  },
  {
   "cell_type": "code",
   "execution_count": null,
   "id": "68b6cfad-d7cd-4859-a82b-c9c5ee1b10f6",
   "metadata": {},
   "outputs": [],
   "source": [
    "# No cross validation"
   ]
  },
  {
   "cell_type": "code",
   "execution_count": 9,
   "id": "d4a9f0a4-f74c-4a1f-ae69-2da77f12f1ea",
   "metadata": {},
   "outputs": [],
   "source": [
    "# Poner que metrica queremos minimizar"
   ]
  },
  {
   "cell_type": "code",
   "execution_count": null,
   "id": "65a38ecf-7c61-472c-b1fb-26f16beec075",
   "metadata": {},
   "outputs": [],
   "source": [
    "# SMOTE"
   ]
  },
  {
   "cell_type": "code",
   "execution_count": 10,
   "id": "1abfac2c-fc73-4356-9d61-06282528e6ba",
   "metadata": {},
   "outputs": [],
   "source": [
    "# False Negative: Avoid people with high stroke probability being negatively diagnosed\n",
    "# True positives: Diagnose all people who are actually likely to have a stroke."
   ]
  },
  {
   "cell_type": "code",
   "execution_count": null,
   "id": "8b6b9d29-191e-4219-8f61-5e7bc15393ec",
   "metadata": {},
   "outputs": [],
   "source": []
  },
  {
   "cell_type": "code",
   "execution_count": null,
   "id": "2eca70d5-b22b-4411-bad5-c4bdb7c9bda8",
   "metadata": {},
   "outputs": [],
   "source": []
  },
  {
   "cell_type": "code",
   "execution_count": null,
   "id": "3af49767-fca4-4e4d-8f02-0103eb3b749b",
   "metadata": {},
   "outputs": [],
   "source": []
  },
  {
   "cell_type": "code",
   "execution_count": null,
   "id": "5cff4380-8f9e-410f-abad-ebbb9a9c64b0",
   "metadata": {},
   "outputs": [],
   "source": []
  },
  {
   "cell_type": "code",
   "execution_count": null,
   "id": "f3dfaa12-59f9-4f81-a666-67ae4a839a72",
   "metadata": {},
   "outputs": [],
   "source": []
  }
 ],
 "metadata": {
  "kernelspec": {
   "display_name": "poc_mlflow",
   "language": "python",
   "name": "poc_mlflow"
  },
  "language_info": {
   "codemirror_mode": {
    "name": "ipython",
    "version": 3
   },
   "file_extension": ".py",
   "mimetype": "text/x-python",
   "name": "python",
   "nbconvert_exporter": "python",
   "pygments_lexer": "ipython3",
   "version": "3.9.13"
  }
 },
 "nbformat": 4,
 "nbformat_minor": 5
}
