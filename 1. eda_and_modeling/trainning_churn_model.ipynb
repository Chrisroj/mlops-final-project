{
 "cells": [
  {
   "cell_type": "code",
   "execution_count": 1,
   "id": "641bcc9d-7396-4a8d-ab61-0fcab48e0781",
   "metadata": {},
   "outputs": [
    {
     "name": "stderr",
     "output_type": "stream",
     "text": [
      "2022/08/22 05:30:40 INFO mlflow.store.db.utils: Creating initial MLflow database tables...\n",
      "2022/08/22 05:30:40 INFO mlflow.store.db.utils: Updating database tables\n",
      "INFO  [alembic.runtime.migration] Context impl SQLiteImpl.\n",
      "INFO  [alembic.runtime.migration] Will assume non-transactional DDL.\n",
      "INFO  [alembic.runtime.migration] Running upgrade  -> 451aebb31d03, add metric step\n",
      "INFO  [alembic.runtime.migration] Running upgrade 451aebb31d03 -> 90e64c465722, migrate user column to tags\n",
      "INFO  [alembic.runtime.migration] Running upgrade 90e64c465722 -> 181f10493468, allow nulls for metric values\n",
      "INFO  [alembic.runtime.migration] Running upgrade 181f10493468 -> df50e92ffc5e, Add Experiment Tags Table\n",
      "INFO  [alembic.runtime.migration] Running upgrade df50e92ffc5e -> 7ac759974ad8, Update run tags with larger limit\n",
      "INFO  [alembic.runtime.migration] Running upgrade 7ac759974ad8 -> 89d4b8295536, create latest metrics table\n",
      "INFO  [89d4b8295536_create_latest_metrics_table_py] Migration complete!\n",
      "INFO  [alembic.runtime.migration] Running upgrade 89d4b8295536 -> 2b4d017a5e9b, add model registry tables to db\n",
      "INFO  [2b4d017a5e9b_add_model_registry_tables_to_db_py] Adding registered_models and model_versions tables to database.\n",
      "INFO  [2b4d017a5e9b_add_model_registry_tables_to_db_py] Migration complete!\n",
      "INFO  [alembic.runtime.migration] Running upgrade 2b4d017a5e9b -> cfd24bdc0731, Update run status constraint with killed\n",
      "INFO  [alembic.runtime.migration] Running upgrade cfd24bdc0731 -> 0a8213491aaa, drop_duplicate_killed_constraint\n",
      "INFO  [alembic.runtime.migration] Running upgrade 0a8213491aaa -> 728d730b5ebd, add registered model tags table\n",
      "INFO  [alembic.runtime.migration] Running upgrade 728d730b5ebd -> 27a6a02d2cf1, add model version tags table\n",
      "INFO  [alembic.runtime.migration] Running upgrade 27a6a02d2cf1 -> 84291f40a231, add run_link to model_version\n",
      "INFO  [alembic.runtime.migration] Running upgrade 84291f40a231 -> a8c4a736bde6, allow nulls for run_id\n",
      "INFO  [alembic.runtime.migration] Running upgrade a8c4a736bde6 -> 39d1c3be5f05, add_is_nan_constraint_for_metrics_tables_if_necessary\n",
      "INFO  [alembic.runtime.migration] Running upgrade 39d1c3be5f05 -> c48cb773bb87, reset_default_value_for_is_nan_in_metrics_table_for_mysql\n",
      "INFO  [alembic.runtime.migration] Running upgrade c48cb773bb87 -> bd07f7e963c5, create index on run_uuid\n",
      "INFO  [alembic.runtime.migration] Running upgrade bd07f7e963c5 -> 0c779009ac13, add deleted_time field to runs table\n",
      "INFO  [alembic.runtime.migration] Running upgrade 0c779009ac13 -> cc1f77228345, change param value length to 500\n",
      "INFO  [alembic.runtime.migration] Context impl SQLiteImpl.\n",
      "INFO  [alembic.runtime.migration] Will assume non-transactional DDL.\n",
      "2022/08/22 05:30:40 INFO mlflow.tracking.fluent: Experiment with name 'churn-prediction' does not exist. Creating a new experiment.\n"
     ]
    },
    {
     "data": {
      "text/plain": [
       "<Experiment: artifact_location='./mlruns/1', experiment_id='1', lifecycle_stage='active', name='churn-prediction', tags={}>"
      ]
     },
     "execution_count": 1,
     "metadata": {},
     "output_type": "execute_result"
    }
   ],
   "source": [
    "import os\n",
    "\n",
    "# Data Manipulation\n",
    "import numpy as np\n",
    "import pandas as pd\n",
    "\n",
    "# Preprocessing\n",
    "from sklearn.impute import SimpleImputer\n",
    "from sklearn.preprocessing import OrdinalEncoder, StandardScaler\n",
    "from sklearn.compose import ColumnTransformer\n",
    "from imblearn.over_sampling import SMOTE\n",
    "from imblearn.pipeline import Pipeline\n",
    "\n",
    "# Modeling\n",
    "from sklearn.ensemble import RandomForestClassifier\n",
    "from sklearn.metrics import precision_score, recall_score, accuracy_score, f1_score\n",
    "from sklearn.model_selection import StratifiedKFold, cross_val_score\n",
    "\n",
    "# Model Tunnning\n",
    "from hyperopt import fmin, tpe, hp, STATUS_OK, Trials\n",
    "from hyperopt.pyll import scope\n",
    "\n",
    "# MLflow\n",
    "import mlflow\n",
    "from mlflow.tracking import MlflowClient\n",
    "from mlflow.entities import ViewType\n",
    "\n",
    "mlflow.set_tracking_uri(\"sqlite:///mlflow.db\")\n",
    "mlflow.set_experiment(\"churn-prediction\")"
   ]
  },
  {
   "cell_type": "markdown",
   "id": "760e5adc-59fa-44af-8876-9185aa2e4c07",
   "metadata": {},
   "source": [
    "# Global Variables"
   ]
  },
  {
   "cell_type": "code",
   "execution_count": 2,
   "id": "c9acfbf0-57da-40b7-ac00-d1a63832102d",
   "metadata": {},
   "outputs": [],
   "source": [
    "RANDOM_STATE = 12354"
   ]
  },
  {
   "cell_type": "markdown",
   "id": "80a15a48-cdd3-446c-9505-585439cb6495",
   "metadata": {},
   "source": [
    "# Read Data"
   ]
  },
  {
   "cell_type": "code",
   "execution_count": 3,
   "id": "c642150a-57ce-4bcd-98ff-00bf62478e29",
   "metadata": {},
   "outputs": [],
   "source": [
    "# Paths\n",
    "root = os.getcwd()\n",
    "data_folder_path = os.path.join(\"data\")\n",
    "data_train_file_path = os.path.join(data_folder_path, \"train_set.csv\")\n",
    "data_test_file_path = os.path.join(data_folder_path, \"test_set.csv\")"
   ]
  },
  {
   "cell_type": "code",
   "execution_count": 4,
   "id": "86f82f46-bb37-4f9c-af78-fff36f838c99",
   "metadata": {},
   "outputs": [],
   "source": [
    "# Read Data\n",
    "data_train = pd.read_csv(data_train_file_path)\n",
    "data_test = pd.read_csv(data_test_file_path)\n",
    "data_train[\"TotalCharges\"] = data_train[\"TotalCharges\"].replace(\" \", \"0\").astype(float)\n",
    "data_test[\"TotalCharges\"] = data_test[\"TotalCharges\"].replace(\" \", \"0\").astype(float)\n",
    "#data[\"Churn\"] = data[\"Churn\"].replace({\"No\": 0, \"Yes\": 1})"
   ]
  },
  {
   "cell_type": "markdown",
   "id": "3d9c3727-38ea-436c-898e-f0105b144e2a",
   "metadata": {},
   "source": [
    "# Preproccesing"
   ]
  },
  {
   "cell_type": "code",
   "execution_count": 5,
   "id": "19261c0a-c3c4-44c9-a270-f407181b96a6",
   "metadata": {},
   "outputs": [],
   "source": [
    "# Selecting Features and Target\n",
    "y_target = \"Churn\"\n",
    "X_features = [c for c in data_train.columns if c != y_target]\n",
    "\n",
    "y_train = data_train[y_target].copy()\n",
    "X_train = data_train[X_features].copy()\n",
    "y_test = data_test[y_target].copy()\n",
    "X_test = data_test[X_features].copy()"
   ]
  },
  {
   "cell_type": "code",
   "execution_count": 6,
   "id": "26e30132-30d3-407a-864e-0f77dbdb42d0",
   "metadata": {},
   "outputs": [],
   "source": [
    "# Pipelines For Column Tranformation\n",
    "numeric_columns = ['TotalCharges', 'tenure', 'MonthlyCharges']\n",
    "\n",
    "categorical_columns = ['gender', 'Partner', 'Dependents', 'PhoneService', 'MultipleLines', 'InternetService', 'OnlineSecurity',\n",
    " 'OnlineBackup', 'DeviceProtection', 'TechSupport', 'StreamingTV', 'StreamingMovies', 'Contract', 'PaperlessBilling',\n",
    " 'PaymentMethod', 'SeniorCitizen']\n",
    "\n",
    "numeric_pipeline = \"passthrough\"\n",
    "\n",
    "categorical_pipeline = Pipeline(steps =\n",
    "                                [(\"encoder\", OrdinalEncoder(handle_unknown = \"use_encoded_value\",\n",
    "                                                            unknown_value = np.nan))])\n",
    "\n",
    "column_trans = ColumnTransformer(\n",
    "    [(\"num_columns\", numeric_pipeline, numeric_columns),\n",
    "     (\"cat_columns\", categorical_pipeline, categorical_columns)])"
   ]
  },
  {
   "cell_type": "markdown",
   "id": "b855ee34-3cff-48d7-94cd-02ac60d45415",
   "metadata": {},
   "source": [
    "# Model Trainning"
   ]
  },
  {
   "cell_type": "markdown",
   "id": "ac977ffb-7520-417d-a175-ed2b9df95d32",
   "metadata": {},
   "source": [
    "**Objectives:**\n",
    "\n",
    "- We want to detect as churn\n",
    "\n",
    "**Metric to be optimized:**\n",
    "\n",
    "- **accuracy**\n",
    "\n",
    "\n",
    "<kbd>\n",
    "  <img src=\"images/confusion_matrix.ppm\">\n",
    "</kbd>"
   ]
  },
  {
   "cell_type": "code",
   "execution_count": 7,
   "id": "2f96cedc-11b4-4431-baaf-9937119d5b42",
   "metadata": {},
   "outputs": [],
   "source": [
    "# Adding SMOTE and Random forest to the pipeline\n",
    "rf_pipeline = Pipeline(steps = [\n",
    "        (\"transformations\", column_trans),\n",
    "        (\"rf_estimator\", RandomForestClassifier(n_estimators = 500, n_jobs = -1, random_state = RANDOM_STATE))\n",
    "])"
   ]
  },
  {
   "cell_type": "markdown",
   "id": "de0452ec-7f18-4a2a-bbcf-a62dfd906b95",
   "metadata": {},
   "source": [
    "## Tracking a Single Experiment Run"
   ]
  },
  {
   "cell_type": "code",
   "execution_count": 8,
   "id": "ac3bae9e-b916-414f-8773-1ad89b52157a",
   "metadata": {},
   "outputs": [],
   "source": [
    "with mlflow.start_run():\n",
    "    mlflow.set_tag(\"developer\", \"Chris\")\n",
    "    mlflow.set_tag(\"model_type\", \"RandomForest\")\n",
    "    \n",
    "    rf_params = {\"max_features\": 3,\n",
    "                \"max_depth\": 4,\n",
    "                \"ccp_alpha\": 0.1}\n",
    "    mlflow.log_params(rf_params)\n",
    "    rf_pipeline.named_steps[\"rf_estimator\"].set_params(**rf_params)\n",
    "    \n",
    "    skfold = StratifiedKFold(n_splits = 5, random_state = RANDOM_STATE, shuffle = True)\n",
    "    new_scores = cross_val_score(rf_pipeline, X_train, y_train, cv = skfold, scoring = \"accuracy\", n_jobs = -1)\n",
    "    accuracy_mean = new_scores.mean()\n",
    "    \n",
    "    mlflow.log_metric(\"accuracy_mean\", accuracy_mean)"
   ]
  },
  {
   "cell_type": "markdown",
   "id": "2a759a24-bed3-4bdb-a472-fa6a8953a9ec",
   "metadata": {},
   "source": [
    "## Tracking a Multiples Experiment Runs"
   ]
  },
  {
   "cell_type": "code",
   "execution_count": 9,
   "id": "bc15e3e4-dc22-4433-81af-6ee82508fca0",
   "metadata": {},
   "outputs": [
    {
     "name": "stdout",
     "output_type": "stream",
     "text": [
      "100%|█████████████████████████████████████████████████| 20/20 [01:48<00:00,  5.45s/trial, best loss: -0.8015873613141826]\n"
     ]
    }
   ],
   "source": [
    "def objective(params):\n",
    "    with mlflow.start_run():\n",
    "        mlflow.set_tag(\"developer\", \"Chris\")\n",
    "        mlflow.set_tag(\"model_type\", \"RandomForest\")\n",
    "        mlflow.set_tag(\"tunning_type\", \"tpe\")\n",
    "        \n",
    "        mlflow.log_params(params)\n",
    "        rf_pipeline.named_steps[\"rf_estimator\"].set_params(**params)\n",
    "        \n",
    "        skfold = StratifiedKFold(n_splits = 5, random_state = RANDOM_STATE, shuffle = True)\n",
    "        new_scores = cross_val_score(rf_pipeline, X_train, y_train, cv = skfold, scoring = \"accuracy\", n_jobs = -1)\n",
    "        accuracy_mean = new_scores.mean()\n",
    "        \n",
    "        mlflow.log_metric(\"accuracy_mean\", accuracy_mean)\n",
    "        \n",
    "    return {'loss': -accuracy_mean, 'status': STATUS_OK}\n",
    "\n",
    "search_space = {\n",
    "    'max_depth': scope.int(hp.quniform('max_depth', 4, 10, 1)),\n",
    "    \"max_features\": scope.int(hp.quniform('max_features', 1, 5, 1)),\n",
    "    \"ccp_alpha\": hp.uniform('ccp_alpha', 0.00000001, 0.001),\n",
    "}\n",
    "\n",
    "best_result = fmin(\n",
    "    fn = objective,\n",
    "    space = search_space,\n",
    "    algo = tpe.suggest,\n",
    "    max_evals = 20,\n",
    "    trials = Trials(),\n",
    "    rstate = np.random.default_rng(RANDOM_STATE)\n",
    ")"
   ]
  },
  {
   "cell_type": "code",
   "execution_count": 10,
   "id": "f0e5e445-4f7d-41a4-a415-1451097e6274",
   "metadata": {},
   "outputs": [
    {
     "data": {
      "text/plain": [
       "{'ccp_alpha': 0.0003595063999887283, 'max_depth': 8.0, 'max_features': 4.0}"
      ]
     },
     "execution_count": 10,
     "metadata": {},
     "output_type": "execute_result"
    }
   ],
   "source": [
    "best_result"
   ]
  },
  {
   "cell_type": "markdown",
   "id": "93cd7c9b-dfdd-4bb8-b5ff-ff77f2e7ce53",
   "metadata": {},
   "source": [
    "## Best Model"
   ]
  },
  {
   "cell_type": "code",
   "execution_count": 11,
   "id": "4de261e8-d380-4480-bf09-ec59b68cd264",
   "metadata": {},
   "outputs": [
    {
     "name": "stderr",
     "output_type": "stream",
     "text": [
      "/home/ubuntu/miniconda3/envs/churn-env/lib/python3.9/site-packages/_distutils_hack/__init__.py:30: UserWarning: Setuptools is replacing distutils.\n",
      "  warnings.warn(\"Setuptools is replacing distutils.\")\n"
     ]
    }
   ],
   "source": [
    "with mlflow.start_run() as run:\n",
    "    mlflow.set_tag(\"developer\", \"Chris\")\n",
    "    mlflow.set_tag(\"model_type\", \"RandomForest\")\n",
    "    \n",
    "    best_params = {'ccp_alpha': best_result[\"ccp_alpha\"], \n",
    "                   'max_depth': int(best_result[\"max_depth\"]), \n",
    "                   'max_features': int(best_result[\"max_features\"])}\n",
    "    mlflow.log_params(rf_params)\n",
    "    rf_pipeline.named_steps[\"rf_estimator\"].set_params(**best_params)\n",
    "    \n",
    "    rf_pipeline.fit(X_train, y_train)\n",
    "    \n",
    "    y_pred = rf_pipeline.predict(X_test)\n",
    "    accuracy = accuracy_score(y_test, y_pred)\n",
    "    recall = recall_score(y_test, y_pred)\n",
    "    precission = precision_score(y_test, y_pred)\n",
    "    f1 = f1_score(y_test, y_pred)\n",
    "    mlflow.log_metric(\"accuracy\", accuracy)\n",
    "    mlflow.log_metric(\"precission\", precission)\n",
    "    mlflow.log_metric(\"recall\", recall)\n",
    "    mlflow.log_metric(\"f1\", f1)\n",
    "    \n",
    "    mlflow.sklearn.log_model(rf_pipeline, artifact_path = \"models_mlflow\")\n",
    "    BEST_RUN_ID = run.info.run_id"
   ]
  },
  {
   "cell_type": "markdown",
   "id": "46b32655-9116-408f-a912-a00dc1ea25ec",
   "metadata": {},
   "source": [
    "## Model Registry"
   ]
  },
  {
   "cell_type": "markdown",
   "id": "9a4e739c-9b4c-44e2-9020-109a677d389f",
   "metadata": {},
   "source": [
    "**First we need to have the model id to be registered.**"
   ]
  },
  {
   "cell_type": "code",
   "execution_count": 12,
   "id": "9181ddc5-c9c1-4209-9191-e11733caa1a8",
   "metadata": {},
   "outputs": [],
   "source": [
    "# MLflow Client Instance\n",
    "MLFLOW_TRACKING_URI = \"sqlite:///mlflow.db\"\n",
    "\n",
    "client = MlflowClient(tracking_uri = MLFLOW_TRACKING_URI)"
   ]
  },
  {
   "cell_type": "code",
   "execution_count": 13,
   "id": "f80f2ccc-da0f-4afb-8c48-0ba55eadde86",
   "metadata": {},
   "outputs": [
    {
     "data": {
      "text/plain": [
       "[<Experiment: artifact_location='./mlruns/0', experiment_id='0', lifecycle_stage='active', name='Default', tags={}>,\n",
       " <Experiment: artifact_location='./mlruns/1', experiment_id='1', lifecycle_stage='active', name='churn-prediction', tags={}>]"
      ]
     },
     "execution_count": 13,
     "metadata": {},
     "output_type": "execute_result"
    }
   ],
   "source": [
    "# Lists Experiments\n",
    "client.list_experiments()"
   ]
  },
  {
   "cell_type": "code",
   "execution_count": 14,
   "id": "daa14ec0-93a4-4eb1-9258-1ffbf0ac0c7e",
   "metadata": {},
   "outputs": [
    {
     "name": "stdout",
     "output_type": "stream",
     "text": [
      "run id: 9d9a11519e354648a1eb3c2167347e63, accuracy: 0.8081\n"
     ]
    }
   ],
   "source": [
    "# See Some Experiments Accuracy\n",
    "runs = client.search_runs(\n",
    "    experiment_ids = '1',    # Experiment ID we want\n",
    "    filter_string = \"metrics.accuracy > 0.75\",\n",
    "    run_view_type = ViewType.ACTIVE_ONLY,\n",
    "    max_results = 10,\n",
    "    order_by = [\"metrics.accuracy DESC\"]\n",
    ")\n",
    "\n",
    "for run in runs:\n",
    "    print(f\"run id: {run.info.run_id}, accuracy: {run.data.metrics['accuracy']:.4f}\")"
   ]
  },
  {
   "cell_type": "markdown",
   "id": "e331df8c-6d89-494a-9cbb-23cbec35a212",
   "metadata": {},
   "source": [
    "**Now we can register the model.**"
   ]
  },
  {
   "cell_type": "code",
   "execution_count": 15,
   "id": "a882cc43-fe84-4f31-b9bf-f9351075a561",
   "metadata": {},
   "outputs": [
    {
     "data": {
      "text/plain": [
       "'9d9a11519e354648a1eb3c2167347e63'"
      ]
     },
     "execution_count": 15,
     "metadata": {},
     "output_type": "execute_result"
    }
   ],
   "source": [
    "BEST_RUN_ID"
   ]
  },
  {
   "cell_type": "code",
   "execution_count": 16,
   "id": "fd1c11f3-61da-4ebe-b054-84383f510d5a",
   "metadata": {},
   "outputs": [
    {
     "name": "stderr",
     "output_type": "stream",
     "text": [
      "Successfully registered model 'churn-classifier'.\n",
      "2022/08/22 05:32:40 INFO mlflow.tracking._model_registry.client: Waiting up to 300 seconds for model version to finish creation.                     Model name: churn-classifier, version 1\n",
      "Created version '1' of model 'churn-classifier'.\n"
     ]
    },
    {
     "data": {
      "text/plain": [
       "<ModelVersion: creation_timestamp=1661146360068, current_stage='None', description=None, last_updated_timestamp=1661146360068, name='churn-classifier', run_id='9d9a11519e354648a1eb3c2167347e63', run_link=None, source='./mlruns/1/9d9a11519e354648a1eb3c2167347e63/artifacts/models', status='READY', status_message=None, tags={}, user_id=None, version=1>"
      ]
     },
     "execution_count": 16,
     "metadata": {},
     "output_type": "execute_result"
    }
   ],
   "source": [
    "# Register the Model\n",
    "model_uri = f\"runs:/{BEST_RUN_ID}/models\"\n",
    "mlflow.register_model(model_uri = model_uri, name = \"churn-classifier\")"
   ]
  },
  {
   "cell_type": "markdown",
   "id": "726ae7fd-5845-416a-b69e-04dd5a69f851",
   "metadata": {},
   "source": [
    "**Promote the model to staging.**"
   ]
  },
  {
   "cell_type": "code",
   "execution_count": 17,
   "id": "5cac1be1-25a6-4c3b-9ea8-e6242a923c99",
   "metadata": {},
   "outputs": [
    {
     "data": {
      "text/plain": [
       "<ModelVersion: creation_timestamp=1661146360068, current_stage='Staging', description=None, last_updated_timestamp=1661146360086, name='churn-classifier', run_id='9d9a11519e354648a1eb3c2167347e63', run_link=None, source='./mlruns/1/9d9a11519e354648a1eb3c2167347e63/artifacts/models', status='READY', status_message=None, tags={}, user_id=None, version=1>"
      ]
     },
     "execution_count": 17,
     "metadata": {},
     "output_type": "execute_result"
    }
   ],
   "source": [
    "# Promote a model to staging\n",
    "model_version = 1\n",
    "new_stage = \"Staging\"\n",
    "model_name = \"churn-classifier\"\n",
    "client.transition_model_version_stage(\n",
    "    name = model_name,\n",
    "    version = model_version,\n",
    "    stage = new_stage,\n",
    "    archive_existing_versions = False\n",
    ")"
   ]
  },
  {
   "cell_type": "code",
   "execution_count": null,
   "id": "937c14f5-51ae-48f2-9e3a-7b286192b21d",
   "metadata": {},
   "outputs": [],
   "source": []
  },
  {
   "cell_type": "code",
   "execution_count": null,
   "id": "ac670f2d-a6b3-4f22-aab4-0fdeed770801",
   "metadata": {},
   "outputs": [],
   "source": []
  },
  {
   "cell_type": "code",
   "execution_count": null,
   "id": "efe442d5-9165-4201-960b-6666a31be1d7",
   "metadata": {},
   "outputs": [],
   "source": []
  },
  {
   "cell_type": "code",
   "execution_count": null,
   "id": "2599bc22-2a28-4fc1-8611-367933b939e1",
   "metadata": {},
   "outputs": [],
   "source": []
  },
  {
   "cell_type": "code",
   "execution_count": null,
   "id": "e1903d66-77ed-476b-b41f-0346ab914e90",
   "metadata": {},
   "outputs": [],
   "source": []
  },
  {
   "cell_type": "code",
   "execution_count": null,
   "id": "b9503af4-cd5e-4756-9f9c-9d4879d4e9f1",
   "metadata": {},
   "outputs": [],
   "source": []
  },
  {
   "cell_type": "code",
   "execution_count": null,
   "id": "80ef00d1-8b15-48e5-9c75-44293e1de99c",
   "metadata": {},
   "outputs": [],
   "source": []
  },
  {
   "cell_type": "code",
   "execution_count": null,
   "id": "18830bd2-725a-4f81-acdb-da48296d6523",
   "metadata": {},
   "outputs": [],
   "source": []
  },
  {
   "cell_type": "code",
   "execution_count": null,
   "id": "0702cbf2-a783-4148-b7e6-b18fa17a14b6",
   "metadata": {},
   "outputs": [],
   "source": []
  }
 ],
 "metadata": {
  "kernelspec": {
   "display_name": "Python 3 (ipykernel)",
   "language": "python",
   "name": "python3"
  },
  "language_info": {
   "codemirror_mode": {
    "name": "ipython",
    "version": 3
   },
   "file_extension": ".py",
   "mimetype": "text/x-python",
   "name": "python",
   "nbconvert_exporter": "python",
   "pygments_lexer": "ipython3",
   "version": "3.9.12"
  }
 },
 "nbformat": 4,
 "nbformat_minor": 5
}
