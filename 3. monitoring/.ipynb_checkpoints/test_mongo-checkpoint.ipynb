{
 "cells": [
  {
   "cell_type": "code",
   "execution_count": 1,
   "id": "8e76a082-b116-4126-b039-96b93589e47f",
   "metadata": {},
   "outputs": [],
   "source": [
    "import pymongo"
   ]
  },
  {
   "cell_type": "code",
   "execution_count": 2,
   "id": "93ddd82e-9bbd-4cba-90dc-b191bea04101",
   "metadata": {},
   "outputs": [],
   "source": [
    "client = pymongo.MongoClient(\"mongodb://localhost:27018\")"
   ]
  },
  {
   "cell_type": "code",
   "execution_count": 3,
   "id": "32d78a6c-a043-4b68-8a18-01f5e3a92c71",
   "metadata": {},
   "outputs": [],
   "source": [
    "db = client.get_database(\"prediction_service\")"
   ]
  },
  {
   "cell_type": "code",
   "execution_count": 4,
   "id": "cd1919a3-c0f2-40dc-a911-9570c7fc0cf7",
   "metadata": {},
   "outputs": [],
   "source": [
    "data_collection = db.get_collection(\"data\")"
   ]
  },
  {
   "cell_type": "code",
   "execution_count": 12,
   "id": "b258b46e-db94-4fba-9f17-974e0c4151cd",
   "metadata": {},
   "outputs": [],
   "source": [
    "data = list(data_collection.find())"
   ]
  },
  {
   "cell_type": "code",
   "execution_count": 13,
   "id": "c85d7dee-2881-460a-b674-980ffe6ec191",
   "metadata": {},
   "outputs": [
    {
     "data": {
      "text/plain": [
       "6"
      ]
     },
     "execution_count": 13,
     "metadata": {},
     "output_type": "execute_result"
    }
   ],
   "source": [
    "len(data)"
   ]
  },
  {
   "cell_type": "code",
   "execution_count": 14,
   "id": "82e37069-e85a-420a-b42e-2b3335a8f4ef",
   "metadata": {},
   "outputs": [
    {
     "data": {
      "text/plain": [
       "[{'_id': ObjectId('6302da8899692bd0eecb0517'),\n",
       "  'customerID': '9237-HQITU',\n",
       "  'gender': 'Female',\n",
       "  'SeniorCitizen': 0,\n",
       "  'Partner': 'No',\n",
       "  'Dependents': 'No',\n",
       "  'tenure': 2,\n",
       "  'PhoneService': 'Yes',\n",
       "  'MultipleLines': 'No',\n",
       "  'InternetService': 'Fiber optic',\n",
       "  'OnlineSecurity': 'No',\n",
       "  'OnlineBackup': 'No',\n",
       "  'DeviceProtection': 'No',\n",
       "  'TechSupport': 'No',\n",
       "  'StreamingTV': 'No',\n",
       "  'StreamingMovies': 'No',\n",
       "  'Contract': 'Month-to-month',\n",
       "  'PaperlessBilling': 'Yes',\n",
       "  'PaymentMethod': 'Electronic check',\n",
       "  'MonthlyCharges': 70.7,\n",
       "  'TotalCharges': '151.65',\n",
       "  'prediction': 1},\n",
       " {'_id': ObjectId('6302da8b99692bd0eecb0518'),\n",
       "  'customerID': '9237-HQITU',\n",
       "  'gender': 'Female',\n",
       "  'SeniorCitizen': 0,\n",
       "  'Partner': 'No',\n",
       "  'Dependents': 'No',\n",
       "  'tenure': 2,\n",
       "  'PhoneService': 'Yes',\n",
       "  'MultipleLines': 'No',\n",
       "  'InternetService': 'Fiber optic',\n",
       "  'OnlineSecurity': 'No',\n",
       "  'OnlineBackup': 'No',\n",
       "  'DeviceProtection': 'No',\n",
       "  'TechSupport': 'No',\n",
       "  'StreamingTV': 'No',\n",
       "  'StreamingMovies': 'No',\n",
       "  'Contract': 'Month-to-month',\n",
       "  'PaperlessBilling': 'Yes',\n",
       "  'PaymentMethod': 'Electronic check',\n",
       "  'MonthlyCharges': 70.7,\n",
       "  'TotalCharges': '151.65',\n",
       "  'prediction': 1},\n",
       " {'_id': ObjectId('6302da8c99692bd0eecb0519'),\n",
       "  'customerID': '9237-HQITU',\n",
       "  'gender': 'Female',\n",
       "  'SeniorCitizen': 0,\n",
       "  'Partner': 'No',\n",
       "  'Dependents': 'No',\n",
       "  'tenure': 2,\n",
       "  'PhoneService': 'Yes',\n",
       "  'MultipleLines': 'No',\n",
       "  'InternetService': 'Fiber optic',\n",
       "  'OnlineSecurity': 'No',\n",
       "  'OnlineBackup': 'No',\n",
       "  'DeviceProtection': 'No',\n",
       "  'TechSupport': 'No',\n",
       "  'StreamingTV': 'No',\n",
       "  'StreamingMovies': 'No',\n",
       "  'Contract': 'Month-to-month',\n",
       "  'PaperlessBilling': 'Yes',\n",
       "  'PaymentMethod': 'Electronic check',\n",
       "  'MonthlyCharges': 70.7,\n",
       "  'TotalCharges': '151.65',\n",
       "  'prediction': 1},\n",
       " {'_id': ObjectId('6302daa399692bd0eecb051a'),\n",
       "  'customerID': '9237-HQITU',\n",
       "  'gender': 'Female',\n",
       "  'SeniorCitizen': 0,\n",
       "  'Partner': 'No',\n",
       "  'Dependents': 'No',\n",
       "  'tenure': 2,\n",
       "  'PhoneService': 'Yes',\n",
       "  'MultipleLines': 'No',\n",
       "  'InternetService': 'Fiber optic',\n",
       "  'OnlineSecurity': 'No',\n",
       "  'OnlineBackup': 'No',\n",
       "  'DeviceProtection': 'No',\n",
       "  'TechSupport': 'No',\n",
       "  'StreamingTV': 'No',\n",
       "  'StreamingMovies': 'No',\n",
       "  'Contract': 'Month-to-month',\n",
       "  'PaperlessBilling': 'Yes',\n",
       "  'PaymentMethod': 'Electronic check',\n",
       "  'MonthlyCharges': 70.7,\n",
       "  'TotalCharges': '151.65',\n",
       "  'prediction': 1},\n",
       " {'_id': ObjectId('6302dca199692bd0eecb051b'),\n",
       "  'customerID': '6847-KJLTS',\n",
       "  'gender': 'Female',\n",
       "  'SeniorCitizen': 1,\n",
       "  'Partner': 'Yes',\n",
       "  'Dependents': 'No',\n",
       "  'tenure': 58,\n",
       "  'PhoneService': 'Yes',\n",
       "  'MultipleLines': 'Yes',\n",
       "  'InternetService': 'Fiber optic',\n",
       "  'OnlineSecurity': 'No',\n",
       "  'OnlineBackup': 'No',\n",
       "  'DeviceProtection': 'No',\n",
       "  'TechSupport': 'Yes',\n",
       "  'StreamingTV': 'Yes',\n",
       "  'StreamingMovies': 'Yes',\n",
       "  'Contract': 'Month-to-month',\n",
       "  'PaperlessBilling': 'Yes',\n",
       "  'PaymentMethod': 'Bank transfer (automatic)',\n",
       "  'MonthlyCharges': 100.4,\n",
       "  'TotalCharges': '5749.8',\n",
       "  'Churn': 0,\n",
       "  'id': '85765fa5-75c4-45d1-ac27-61f7f83ace3c',\n",
       "  'prediction': 0},\n",
       " {'_id': ObjectId('6302dca299692bd0eecb051c'),\n",
       "  'customerID': '9367-TCUYN',\n",
       "  'gender': 'Female',\n",
       "  'SeniorCitizen': 0,\n",
       "  'Partner': 'No',\n",
       "  'Dependents': 'No',\n",
       "  'tenure': 12,\n",
       "  'PhoneService': 'Yes',\n",
       "  'MultipleLines': 'No',\n",
       "  'InternetService': 'No',\n",
       "  'OnlineSecurity': 'No internet service',\n",
       "  'OnlineBackup': 'No internet service',\n",
       "  'DeviceProtection': 'No internet service',\n",
       "  'TechSupport': 'No internet service',\n",
       "  'StreamingTV': 'No internet service',\n",
       "  'StreamingMovies': 'No internet service',\n",
       "  'Contract': 'Month-to-month',\n",
       "  'PaperlessBilling': 'No',\n",
       "  'PaymentMethod': 'Mailed check',\n",
       "  'MonthlyCharges': 20.1,\n",
       "  'TotalCharges': '223.6',\n",
       "  'Churn': 0,\n",
       "  'id': '5e995661-5cd3-4389-8cad-8dfcbc575bdd',\n",
       "  'prediction': 0}]"
      ]
     },
     "execution_count": 14,
     "metadata": {},
     "output_type": "execute_result"
    }
   ],
   "source": [
    "data"
   ]
  },
  {
   "cell_type": "code",
   "execution_count": null,
   "id": "eaafb2d9-99af-469d-885e-e03cd4a3dcb1",
   "metadata": {},
   "outputs": [],
   "source": []
  }
 ],
 "metadata": {
  "kernelspec": {
   "display_name": "exp-tracking-env",
   "language": "python",
   "name": "exp-tracking-env"
  },
  "language_info": {
   "codemirror_mode": {
    "name": "ipython",
    "version": 3
   },
   "file_extension": ".py",
   "mimetype": "text/x-python",
   "name": "python",
   "nbconvert_exporter": "python",
   "pygments_lexer": "ipython3",
   "version": "3.9.12"
  }
 },
 "nbformat": 4,
 "nbformat_minor": 5
}
